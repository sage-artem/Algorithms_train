{
  "cells": [
    {
      "cell_type": "markdown",
      "metadata": {
        "id": "view-in-github",
        "colab_type": "text"
      },
      "source": [
        "<a href=\"https://colab.research.google.com/github/sage-artem/Algorithms_train/blob/main/%D0%B0%D0%BB%D0%B3%D0%BE%D1%80%D0%B8%D1%82%D0%BC%D1%8B_%D1%8F%D0%BD%D0%B4%D0%B5%D0%BA%D1%81_%2B_random.ipynb\" target=\"_parent\"><img src=\"https://colab.research.google.com/assets/colab-badge.svg\" alt=\"Open In Colab\"/></a>"
      ]
    },
    {
      "cell_type": "markdown",
      "metadata": {
        "id": "0bSbS5xhiy8t"
      },
      "source": [
        "### Лекция №1\n"
      ]
    },
    {
      "cell_type": "markdown",
      "metadata": {
        "id": "id2pnGG1i2yu"
      },
      "source": [
        "Задача №1\n",
        "\n",
        "Кондиционер\n"
      ]
    },
    {
      "cell_type": "code",
      "execution_count": null,
      "metadata": {
        "colab": {
          "base_uri": "https://localhost:8080/"
        },
        "id": "-8vzBLqyixC9",
        "outputId": "37af2411-02a1-4f15-ee47-be96efaddf9c"
      },
      "outputs": [
        {
          "name": "stdout",
          "output_type": "stream",
          "text": [
            "123 213\n",
            "fan\n",
            "123\n"
          ]
        }
      ],
      "source": [
        "t_room, t_cond = list(map(int, input().split()))\n",
        "work = input()\n",
        "if work != 'fan':\n",
        "    if work == 'freeze' and t_room < t_cond:\n",
        "        print(t_room)\n",
        "    elif work == 'heat' and t_room > t_cond:\n",
        "        print(t_room)\n",
        "    else:\n",
        "        print(t_cond)\n",
        "else:\n",
        "    print(t_room)"
      ]
    },
    {
      "cell_type": "markdown",
      "metadata": {
        "id": "SloB79LIktiA"
      },
      "source": [
        "Задача №2\n",
        "\n",
        "Треугольник"
      ]
    },
    {
      "cell_type": "code",
      "execution_count": null,
      "metadata": {
        "colab": {
          "base_uri": "https://localhost:8080/"
        },
        "id": "mCbW4HBplBDZ",
        "outputId": "e9541e7f-1df2-417a-9466-7da31cb3cc45"
      },
      "outputs": [
        {
          "name": "stdout",
          "output_type": "stream",
          "text": [
            "1\n",
            "2\n",
            "5\n",
            "NO\n"
          ]
        }
      ],
      "source": [
        "a, b, c = [int(input()) for _ in range(3)]\n",
        "cond1 = a + b > c\n",
        "cond2 = a + c > b\n",
        "cond3 = c + b > a\n",
        "if (cond1 + cond2 + cond3) == 3:\n",
        "    print('YES')\n",
        "else:\n",
        "    print('NO')"
      ]
    },
    {
      "cell_type": "markdown",
      "metadata": {
        "id": "xRjxSu319AOX"
      },
      "source": [
        "Задача №3\n",
        "\n",
        "Телефонные номера\n"
      ]
    },
    {
      "cell_type": "code",
      "execution_count": null,
      "metadata": {
        "id": "YqumNzpU9EMJ"
      },
      "outputs": [],
      "source": [
        "def transform(x):\n",
        "    new_num = []\n",
        "    for elem in x:\n",
        "        if elem.isdigit():\n",
        "            new_num.append(elem)\n",
        "    if len(new_num) == 7:\n",
        "        new_num = ['8', '4', '9', '5'] + new_num\n",
        "    return new_num\n",
        "\n",
        "\n",
        "numbers = [transform(input()) for _ in range(4)]\n",
        "sample = numbers[0]\n",
        "examples = numbers[1:]\n",
        "for num in examples:\n",
        "    if num[1:] == sample[1:]:\n",
        "        print('YES')\n",
        "    else:\n",
        "        print('NO')\n",
        "\n"
      ]
    },
    {
      "cell_type": "markdown",
      "metadata": {
        "id": "YU7F5VEICWIP"
      },
      "source": [
        "Задача №4\n",
        "\n",
        "Уравнение с корнем\n"
      ]
    },
    {
      "cell_type": "code",
      "execution_count": null,
      "metadata": {
        "colab": {
          "base_uri": "https://localhost:8080/"
        },
        "id": "17lzlsj4Caqa",
        "outputId": "84b43bc4-dcf7-4069-fc58-408e137e9fd5"
      },
      "outputs": [
        {
          "name": "stdout",
          "output_type": "stream",
          "text": [
            "213\n",
            "34\n",
            "234\n",
            "NO SOLUTION\n"
          ]
        }
      ],
      "source": [
        "a, b, c = [int(input()) for _ in range(3)]\n",
        "if c < 0:\n",
        "    print('NO SOLUTION')\n",
        "else:\n",
        "    if a != 0:\n",
        "        x = (c**2 - b) / a\n",
        "        if x != int(x):\n",
        "            print('NO SOLUTION')\n",
        "        else:\n",
        "            print(int(x))\n",
        "    else:\n",
        "        if c**2 == b:\n",
        "            print('MANY SOLUTIONS')\n",
        "        else:\n",
        "            print('NO SOLUTION')"
      ]
    },
    {
      "cell_type": "markdown",
      "metadata": {
        "id": "oc5-0ZOybJYL"
      },
      "source": [
        "Задача №5\n",
        "\n",
        "Скорая помощь\n"
      ]
    },
    {
      "cell_type": "code",
      "execution_count": null,
      "metadata": {
        "colab": {
          "base_uri": "https://localhost:8080/"
        },
        "id": "_FF8ZAflbNug",
        "outputId": "63f41225-3a07-4109-a6eb-8a5b5ea0bd67"
      },
      "outputs": [
        {
          "name": "stdout",
          "output_type": "stream",
          "text": [
            "14 1 3 0 1\n",
            "-1 -1\n"
          ]
        }
      ],
      "source": [
        "K1, M, K2, P2, N2 = list(map(int, input().split()))\n",
        "P1, N1 = -1, -1\n",
        "p1_values = []\n",
        "n1_values = []\n",
        "if N2 <= M and (K1 * M * K2 * P2 * N2 != 0):\n",
        "    for flat_count in range(1, 10**6):\n",
        "        floor_add = (P2 - 1) * M + N2\n",
        "        if flat_count * (floor_add- 1) < K2 <= flat_count * floor_add:\n",
        "            floor_add_2 = K1 // flat_count + 1 if K1 % flat_count != 0 else K1 // flat_count\n",
        "            P1 = floor_add_2 // M + 1 if floor_add_2 % M != 0 else floor_add_2 // M\n",
        "            N1 = floor_add_2 % M if floor_add_2 % M != 0 else M\n",
        "            if P1 not in p1_values and len(p1_values) < 2:\n",
        "                p1_values.append(P1)\n",
        "            if N1 not in n1_values and len(n1_values) < 2:\n",
        "                n1_values.append(N1)\n",
        "if len(p1_values) <= 1:\n",
        "    print(P1, end=' ')\n",
        "else:\n",
        "    print(0, end=' ')\n",
        "\n",
        "if len(n1_values) <= 1:\n",
        "    print(N1)\n",
        "else:\n",
        "    print(0)"
      ]
    },
    {
      "cell_type": "markdown",
      "metadata": {
        "id": "C9n3KjqMiVSd"
      },
      "source": [
        "Задача №6\n",
        "\n",
        "Расстановка ноутбуков\n"
      ]
    },
    {
      "cell_type": "code",
      "execution_count": null,
      "metadata": {
        "colab": {
          "base_uri": "https://localhost:8080/"
        },
        "id": "1xWUDmT7ifO5",
        "outputId": "3313b2e3-d708-47ec-9ff4-cb2ce9a68bba"
      },
      "outputs": [
        {
          "name": "stdout",
          "output_type": "stream",
          "text": [
            "5 7 3 2\n",
            "9 5\n"
          ]
        }
      ],
      "source": [
        "length_1, width_1, length_2, width_2 = list(map(int, input().split()))\n",
        "squares =  []\n",
        "\n",
        "x1, y1 = length_1 + length_2, max(width_1, width_2)\n",
        "square_1 = x1 * y1\n",
        "squares.append((x1, y1, square_1))\n",
        "\n",
        "x2, y2 = length_1 + width_2, max(width_1, length_2)\n",
        "square_2 = x2 * y2\n",
        "squares.append((x2, y2, square_2))\n",
        "\n",
        "x3, y3 = width_1 + length_2, max(length_1, width_2)\n",
        "square_3 = x3 * y3\n",
        "squares.append((x3, y3, square_3))\n",
        "\n",
        "x4, y4 = width_1 + width_2, max(length_1, length_2)\n",
        "square_4 = x4 * y4\n",
        "squares.append((x4, y4, square_4))\n",
        "\n",
        "best =sorted(squares, key=lambda x: x[2])[0]\n",
        "\n",
        "print(best[0], best[1])"
      ]
    },
    {
      "cell_type": "markdown",
      "metadata": {
        "id": "P7nj7uZ7qPMt"
      },
      "source": [
        "Задача №7\n",
        "\n",
        "Детали\n"
      ]
    },
    {
      "cell_type": "code",
      "execution_count": null,
      "metadata": {
        "colab": {
          "base_uri": "https://localhost:8080/"
        },
        "id": "sZzf4LuyqUkD",
        "outputId": "96a1c52f-57fc-4a23-97de-001590e3cd3d"
      },
      "outputs": [
        {
          "name": "stdout",
          "output_type": "stream",
          "text": [
            "100 51 26\n",
            "2\n"
          ]
        }
      ],
      "source": [
        "N, K, M = map(int, input().split())\n",
        "counter = 0\n",
        "if not (K > N or M > K):\n",
        "    while N >= K:\n",
        "        step_1_amount = int(N / K)\n",
        "        step_2_amount = int(K / M)\n",
        "        ost_1 = N - step_1_amount * K\n",
        "        ost_2 = K - step_2_amount * M\n",
        "        counter += step_1_amount * step_2_amount\n",
        "        N = ost_2 * step_1_amount + ost_1\n",
        "print(counter)"
      ]
    },
    {
      "cell_type": "markdown",
      "metadata": {
        "id": "B1_dWmsB5SMF"
      },
      "source": [
        "Задача №8\n",
        "\n",
        "Метро"
      ]
    },
    {
      "cell_type": "code",
      "execution_count": null,
      "metadata": {
        "colab": {
          "base_uri": "https://localhost:8080/"
        },
        "id": "D7m2-O4w5YxN",
        "outputId": "3f6b6c47-653e-4885-85ff-a04912503831"
      },
      "outputs": [
        {
          "name": "stdout",
          "output_type": "stream",
          "text": [
            "1\n",
            "3\n",
            "3\n",
            "2\n",
            "5 7\n"
          ]
        }
      ],
      "source": [
        "a, b, n, m = [int(input()) for _ in range(4)]\n",
        "\n",
        "min_1 = a * (n - 1) + n\n",
        "max_1 = min_1 + 2 * a\n",
        "min_2 = b * (m - 1) + m\n",
        "max_2 = min_2 + 2 * b\n",
        "\n",
        "if (max_1 >= min_2 and min_1 <= max_2) \\\n",
        "or (max_2 >= min_1 and min_2 <= max_1):\n",
        "    print(max(min_1, min_2), min(max_1, max_2))\n",
        "else:\n",
        "    print(-1)"
      ]
    },
    {
      "cell_type": "markdown",
      "metadata": {
        "id": "SvXChkCv9xOS"
      },
      "source": [
        "Задача №9\n",
        "\n",
        "Узник замка ИФ"
      ]
    },
    {
      "cell_type": "code",
      "execution_count": null,
      "metadata": {
        "colab": {
          "base_uri": "https://localhost:8080/"
        },
        "id": "TDHYaTAo90ox",
        "outputId": "4b74d689-abde-48bd-d726-d4346ed7c1ee"
      },
      "outputs": [
        {
          "name": "stdout",
          "output_type": "stream",
          "text": [
            "4\n",
            "4\n",
            "4\n",
            "1\n",
            "1\n",
            "NO\n"
          ]
        }
      ],
      "source": [
        "def valid(dim1, dim2, D, E):\n",
        "    if (dim1 <= D and dim2 <= E) \\\n",
        "    or (dim1 <= E and dim2 <= D):\n",
        "        return True\n",
        "    else:\n",
        "        return False\n",
        "\n",
        "dims = [int(input()) for _ in range(3)]\n",
        "D, E = [int(input()) for _ in range(2)]\n",
        "flag = 0\n",
        "for i in range(3):\n",
        "    if i + 1 == 3:\n",
        "        dim_1, dim_2 = dims[i], dims[0]\n",
        "    else:\n",
        "        dim_1, dim_2 = dims[i], dims[i + 1]\n",
        "    if valid(dim_1, dim_2, D, E):\n",
        "        print('YES')\n",
        "        flag = 1\n",
        "        break\n",
        "if not flag:\n",
        "    print('NO')"
      ]
    },
    {
      "cell_type": "markdown",
      "metadata": {
        "id": "Zdm8AR0bAjL3"
      },
      "source": [
        "Задача №10\n",
        "\n",
        "Система линейных уравнений - 2"
      ]
    },
    {
      "cell_type": "code",
      "execution_count": null,
      "metadata": {
        "id": "jA6FLxkQAnOs"
      },
      "outputs": [],
      "source": [
        "a, b, c, d, e, f = [float(input()) for _ in range(6)]\n",
        "det_0 = a * d - b * c\n",
        "det_1 = e * d - b * f\n",
        "det_2 = a * f - e * c\n",
        "if det_0 != 0:\n",
        "    print(2, '{:.6f}'.format(det_1 / det_0), '{:.6f}'.format(det_2 / det_0))\n",
        "else:\n",
        "    if a != 0:\n",
        "        if det_2 == 0:\n",
        "            if b != 0:\n",
        "                print(1, -a / b, e / b)\n",
        "            else:\n",
        "                print(3, e / a)\n",
        "        else:\n",
        "            print(0)\n",
        "    else:\n",
        "        if b == 0:\n",
        "            if e == 0:\n",
        "                if d != 0:\n",
        "                    if c != 0:\n",
        "                        print(1, -c / d, f / d)\n",
        "                    else:\n",
        "                        print(4, f / d)\n",
        "                else:\n",
        "                    if c != 0:\n",
        "                        print(3, f / c)\n",
        "                    else:\n",
        "                        if f == 0:\n",
        "                            print(5)\n",
        "                        else:\n",
        "                            print(0)\n",
        "            else:\n",
        "                print(0)\n",
        "        else:\n",
        "            if c == 0:\n",
        "                if det_1 == 0:\n",
        "                    print(4, e / b)\n",
        "                else:\n",
        "                    print(0)"
      ]
    },
    {
      "cell_type": "markdown",
      "metadata": {
        "id": "cR4NmDnXDE-o"
      },
      "source": [
        "### Лекция №2"
      ]
    },
    {
      "cell_type": "markdown",
      "metadata": {
        "id": "mHCIInNtuH4E"
      },
      "source": [
        "Задача №1\n",
        "\n",
        "Возрастает ли список?"
      ]
    },
    {
      "cell_type": "code",
      "execution_count": null,
      "metadata": {
        "colab": {
          "base_uri": "https://localhost:8080/"
        },
        "id": "xCyGhzN7DIMi",
        "outputId": "1a525b2a-57fa-466c-85d9-79b29e8c6c5f"
      },
      "outputs": [
        {
          "name": "stdout",
          "output_type": "stream",
          "text": [
            "6 51\n",
            "YES\n"
          ]
        }
      ],
      "source": [
        "numbers = list(map(int, input().split()))\n",
        "flag = True\n",
        "for i in range(len(numbers) - 1):\n",
        "    if numbers[i+1] <= numbers[i]:\n",
        "        flag = False\n",
        "if flag:\n",
        "    print('YES')\n",
        "else:\n",
        "    print('NO')"
      ]
    },
    {
      "cell_type": "markdown",
      "metadata": {
        "id": "WcxpILzZu6fw"
      },
      "source": [
        "Задача №2\n",
        "\n",
        "Определить вид последовательности"
      ]
    },
    {
      "cell_type": "code",
      "execution_count": null,
      "metadata": {
        "colab": {
          "base_uri": "https://localhost:8080/"
        },
        "id": "KLiGzXYcu85q",
        "outputId": "97745734-216e-4d41-a794-928b32fe5c88"
      },
      "outputs": [
        {
          "name": "stdout",
          "output_type": "stream",
          "text": [
            "1\n",
            "5\n",
            "2\n",
            "3\n",
            "1\n",
            "-2000000000\n",
            "RANDOM\n"
          ]
        }
      ],
      "source": [
        "def make_decision(type: dict) -> str:\n",
        "    for answer, flag in type.items():\n",
        "        if flag:\n",
        "            return answer\n",
        "\n",
        "\n",
        "\n",
        "numbers = []\n",
        "num = int(input())\n",
        "while num != -2 * 1e9:\n",
        "    numbers.append(num)\n",
        "    num = int(input())\n",
        "type = {'CONSTANT': True,\n",
        "        'ASCENDING': True,\n",
        "        'DESCENDING': True,\n",
        "        'WEAKLY ASCENDING': True,\n",
        "        'WEAKLY DESCENDING': True,\n",
        "        'RANDOM': True}\n",
        "for i in range(len(numbers) - 1):\n",
        "    if numbers[i] < numbers[i + 1]:\n",
        "        type['CONSTANT'] = False\n",
        "        type['DESCENDING'] = False\n",
        "        type['WEAKLY DESCENDING'] = False\n",
        "    if numbers[i] > numbers[i + 1]:\n",
        "        type['CONSTANT'] = False\n",
        "        type['ASCENDING'] = False\n",
        "        type['WEAKLY ASCENDING'] = False\n",
        "    if numbers[i] == numbers[i + 1]:\n",
        "        type['ASCENDING'] = False\n",
        "        type['DESCENDING'] = False\n",
        "\n",
        "print(make_decision(type))"
      ]
    },
    {
      "cell_type": "markdown",
      "metadata": {
        "id": "ss00NNHAvYuo"
      },
      "source": [
        "Задача №3\n",
        "\n",
        "Ближайшее число"
      ]
    },
    {
      "cell_type": "code",
      "execution_count": null,
      "metadata": {
        "colab": {
          "base_uri": "https://localhost:8080/"
        },
        "id": "6Wf192KIvbQK",
        "outputId": "384d0c0d-69e8-4326-8e06-c678154b7ee0"
      },
      "outputs": [
        {
          "name": "stdout",
          "output_type": "stream",
          "text": [
            "5\n",
            "1 4 8 11 15\n",
            "7\n",
            "1 3\n",
            "2 1\n",
            "8\n"
          ]
        }
      ],
      "source": [
        "N = int(input())\n",
        "numbers = list(map(int, input().split()))\n",
        "x = int(input())\n",
        "nearest_index = 0\n",
        "nearest_diff = abs(x - numbers[0])\n",
        "for i in range(1, N):\n",
        "    if abs(numbers[i] - x) < nearest_diff:\n",
        "        nearest_diff = abs(numbers[i] - x)\n",
        "        nearest_index = i\n",
        "print(numbers[nearest_index])"
      ]
    },
    {
      "cell_type": "markdown",
      "metadata": {
        "id": "IKGkugJBYFkV"
      },
      "source": [
        "Задача №4\n",
        "\n",
        "Больше своих соседей"
      ]
    },
    {
      "cell_type": "code",
      "execution_count": null,
      "metadata": {
        "colab": {
          "base_uri": "https://localhost:8080/"
        },
        "id": "S1l0EZtbYHsy",
        "outputId": "6ffa2604-b201-4f05-c05d-5c845bd289e3"
      },
      "outputs": [
        {
          "name": "stdout",
          "output_type": "stream",
          "text": [
            "1 5 1 5 1\n",
            "2\n"
          ]
        }
      ],
      "source": [
        "numbers = list(map(int, input().split()))\n",
        "counter = 0\n",
        "for i in range(1, len(numbers) - 1):\n",
        "    if (numbers[i] > numbers[i - 1]) and (numbers[i] > numbers[i + 1]):\n",
        "        counter += 1\n",
        "print(counter)"
      ]
    },
    {
      "cell_type": "markdown",
      "metadata": {
        "id": "LdXZFhujjx0y"
      },
      "source": [
        "Задача № 5\n",
        "\n",
        "Чемпионат по метанию коровьих лепешек"
      ]
    },
    {
      "cell_type": "code",
      "execution_count": null,
      "metadata": {
        "colab": {
          "base_uri": "https://localhost:8080/"
        },
        "id": "SEJs5eRm1dYY",
        "outputId": "f905684b-47d5-4e48-d1e4-778017a1ddbe"
      },
      "outputs": [
        {
          "name": "stdout",
          "output_type": "stream",
          "text": [
            "5\n",
            "1 20 15 4 10\n",
            "2\n"
          ]
        }
      ],
      "source": [
        "import numpy as np\n",
        "\n",
        "n = int(input())\n",
        "scores = list(map(int, input().split()))\n",
        "best_place = n + 1\n",
        "max_score = np.max(np.array(scores))\n",
        "index_max_score = n\n",
        "flag = False\n",
        "for i in range(n - 1):\n",
        "    if scores[i] == max_score and not flag:\n",
        "        index_max_score = i\n",
        "        flag = True\n",
        "    if (scores[i] % 10 == 5) and (i > index_max_score) and\\\n",
        "     (scores[i + 1] < scores[i]):\n",
        "        cnt = 1\n",
        "        for j in range(n):\n",
        "            if scores[j] > scores[i]:\n",
        "                cnt += 1\n",
        "        if cnt < best_place:\n",
        "            best_place = cnt\n",
        "if best_place == (n + 1):\n",
        "    print(0)\n",
        "else:\n",
        "    print(best_place)"
      ]
    },
    {
      "cell_type": "code",
      "execution_count": null,
      "metadata": {
        "colab": {
          "base_uri": "https://localhost:8080/"
        },
        "id": "GfsAy-BoMBLO",
        "outputId": "6a053276-f567-48f4-88ed-425ab08c9e44"
      },
      "outputs": [
        {
          "name": "stdout",
          "output_type": "stream",
          "text": [
            "7\n",
            "10 20 15 10 30 5 1\n",
            "6\n"
          ]
        }
      ],
      "source": [
        "n = int(input())\n",
        "scores = list(map(int, input().split()))\n",
        "max_score = scores[0]\n",
        "index_max_score = 0\n",
        "possible_vasya_index = []\n",
        "best_place = n + 1\n",
        "for i in range(1, n):\n",
        "    if max_score < scores[i]:\n",
        "        max_score = scores[i]\n",
        "        index_max_score = i\n",
        "    if (i != n - 1) and (scores[i] % 10 == 5) and (scores[i + 1] < scores[i]):\n",
        "        possible_vasya_index.append(i)\n",
        "\n",
        "# places = {}\n",
        "# for i in range(n):\n",
        "#     for j in possible_vasya_index:\n",
        "#         if j > index_max_score:\n",
        "#             if scores[i] > scores[j]:\n",
        "#                 places[j] = places.get(j, 1) + 1\n",
        "\n",
        "\n",
        "\n",
        "for j in possible_vasya_index:\n",
        "    if j > index_max_score:\n",
        "        cnt = 1\n",
        "        for i in range(n):\n",
        "            if scores[i] > scores[j]:\n",
        "                cnt += 1\n",
        "        if cnt < best_place:\n",
        "            best_place = cnt\n",
        "if best_place == (n + 1):\n",
        "    print(0)\n",
        "else:\n",
        "    print(best_place)\n"
      ]
    },
    {
      "cell_type": "markdown",
      "metadata": {
        "id": "IqIwmLLyj0AP"
      },
      "source": [
        "Задача № 6\n",
        "\n",
        "Симметричная последовательность"
      ]
    },
    {
      "cell_type": "code",
      "execution_count": null,
      "metadata": {
        "colab": {
          "base_uri": "https://localhost:8080/"
        },
        "id": "AxuNBaxkvlej",
        "outputId": "7c51b43c-53cc-4e4c-f08c-65e10b3fa6d5"
      },
      "outputs": [
        {
          "name": "stdout",
          "output_type": "stream",
          "text": [
            "9\n",
            "1 2 3 4 5 4 3 2 1\n",
            "0\n",
            "\n"
          ]
        }
      ],
      "source": [
        "N = int(input())\n",
        "numbers = list(map(int, input().split()))\n",
        "add_helper = numbers[::-1]\n",
        "M = N\n",
        "for i in range(1, N + 1):\n",
        "    add_temp = add_helper[i:]\n",
        "    new_numbers = numbers + add_temp\n",
        "    if new_numbers == new_numbers[::-1]:\n",
        "        best_list = add_temp\n",
        "        M = N - i\n",
        "print(M)\n",
        "print(*best_list)"
      ]
    },
    {
      "cell_type": "code",
      "execution_count": null,
      "metadata": {
        "colab": {
          "base_uri": "https://localhost:8080/"
        },
        "id": "DcHgEsMDzhup",
        "outputId": "0aabde5a-f5d3-4e75-dce0-ee4c1c4a41ce"
      },
      "outputs": [
        {
          "name": "stdout",
          "output_type": "stream",
          "text": [
            "5\n",
            "1 2 1 2 2\n",
            "[2, 2] [2, 2]\n",
            "3\n",
            "1 2 1\n"
          ]
        }
      ],
      "source": [
        "def make_symmetric(sequence):\n",
        "    reversed_sequence = sequence[::-1]  # Получаем обратную последовательность\n",
        "    length = len(sequence)\n",
        "    for i in range(length):\n",
        "        if sequence[i:] == reversed_sequence[:length-i]:\n",
        "            return i, reversed_sequence[length-i:]  # Возвращаем количество чисел и сами числа, которые нужно добавить\n",
        "    return length, reversed_sequence[::-1]  # Если не найдено симметричное окончание, возвращаем полную обратную последовательность\n",
        "\n",
        "# Пример использования\n",
        "N = int(input())\n",
        "sequence = list(map(int, input().split()))\n",
        "min_numbers, numbers_to_add = make_symmetric(sequence)\n",
        "print(min_numbers)\n",
        "print(*numbers_to_add)\n"
      ]
    },
    {
      "cell_type": "markdown",
      "metadata": {
        "id": "9tA5YKUT1pXl"
      },
      "source": [
        "Задача №7\n",
        "\n",
        "Наибольшее произведение двух чисел"
      ]
    },
    {
      "cell_type": "code",
      "execution_count": null,
      "metadata": {
        "colab": {
          "base_uri": "https://localhost:8080/"
        },
        "id": "8EUhOnIx1vQA",
        "outputId": "11869301-95f1-49b7-d370-fde852b7a4ee"
      },
      "outputs": [
        {
          "name": "stdout",
          "output_type": "stream",
          "text": [
            "-4 3 -5 2 5\n",
            "-5 -4\n"
          ]
        }
      ],
      "source": [
        "numbers = list(map(int, input().split()))\n",
        "max_positive = max(numbers[0], numbers[1])\n",
        "min_positive = min(numbers[0], numbers[1])\n",
        "min_negative, max_negative = min_positive, max_positive\n",
        "for i in range(2, len(numbers)):\n",
        "    if numbers[i] > max_positive:\n",
        "        min_positive = max_positive\n",
        "        max_positive = numbers[i]\n",
        "    elif numbers[i] > min_positive:\n",
        "        min_positive = numbers[i]\n",
        "    if numbers[i] < min_negative:\n",
        "        max_negative = min_negative\n",
        "        min_negative = numbers[i]\n",
        "    elif numbers[i] < max_negative:\n",
        "        max_negative = numbers[i]\n",
        "if max_positive * min_positive > max_negative * min_negative:\n",
        "    print(min_positive, max_positive)\n",
        "else:\n",
        "    print(min_negative, max_negative)"
      ]
    },
    {
      "cell_type": "markdown",
      "metadata": {
        "id": "Y1vIKvsxUKYX"
      },
      "source": [
        "Задача № 8\n",
        "\n",
        "Наибольшее произведение трех чисел"
      ]
    },
    {
      "cell_type": "code",
      "execution_count": null,
      "metadata": {
        "colab": {
          "base_uri": "https://localhost:8080/"
        },
        "id": "Stk3_xfzUNpL",
        "outputId": "83e9e210-9c67-4d94-9d9c-41d2a221d10f"
      },
      "outputs": [
        {
          "name": "stdout",
          "output_type": "stream",
          "text": [
            "-5 -4 -3 -2 -1\n",
            "-3 -2 -1\n",
            "-5 -4 -1\n"
          ]
        }
      ],
      "source": [
        "numbers = list(map(int, input().split()))\n",
        "max_3, max_2, max_1 = sorted(numbers[:3])\n",
        "min_3, min_2, min_1 = max_3, max_2, max_1\n",
        "for i in range(3, len(numbers)):\n",
        "    if numbers[i] > max_1:\n",
        "        max_3 = max_2\n",
        "        max_2 = max_1\n",
        "        max_1 = numbers[i]\n",
        "    elif numbers[i] > max_2:\n",
        "        max_3 = max_2\n",
        "        max_2 = numbers[i]\n",
        "    elif numbers[i] > max_3:\n",
        "        max_3 = numbers[i]\n",
        "\n",
        "    if numbers[i] < min_3:\n",
        "        min_1 = min_2\n",
        "        min_2 = min_3\n",
        "        min_3 = numbers[i]\n",
        "    elif numbers[i] < min_2:\n",
        "        min_1 = min_2\n",
        "        min_2 = numbers[i]\n",
        "    elif numbers[i] < min_1:\n",
        "        min_1 = numbers[i]\n",
        "\n",
        "if (max_3 * max_2 * max_1) > (min_3 * min_2 * max_1):\n",
        "    print(max_3, max_2, max_1)\n",
        "else:\n",
        "    print(min_3, min_2, max_1)\n",
        "\n"
      ]
    },
    {
      "cell_type": "markdown",
      "metadata": {
        "id": "enG4Hr-pjWDz"
      },
      "source": [
        "Задача №9\n",
        "\n",
        "Сапер"
      ]
    },
    {
      "cell_type": "code",
      "execution_count": null,
      "metadata": {
        "colab": {
          "base_uri": "https://localhost:8080/"
        },
        "id": "B_6z2x9ujaFl",
        "outputId": "8c815844-9a46-416e-ac64-591c1a0e39ac"
      },
      "outputs": [
        {
          "name": "stdout",
          "output_type": "stream",
          "text": [
            "3 2 2\n",
            "1 1\n",
            "2 2\n",
            "* 2\n",
            "2 *\n",
            "1 1\n"
          ]
        }
      ],
      "source": [
        "N, M, K = map(int, input().split())\n",
        "mines = [(int(p), int(q)) for _ in range(K) for p, q in [input().split()]]\n",
        "field = [[0] * (M + 2) for _ in range(N + 2)]\n",
        "hor = [1, 1, 1, 0, 0, -1, -1, -1]\n",
        "ver = [-1, 0, 1, -1, 1, -1, 0, 1]\n",
        "for x, y in mines:\n",
        "    field[x][y] = '*'\n",
        "    for k in range(8):\n",
        "        if field[x + hor[k]][y + ver[k]] != '*':\n",
        "            field[x + hor[k]][y + ver[k]] += 1\n",
        "for i in range(1, N + 1):\n",
        "    print(*field[i][1:M + 1])"
      ]
    },
    {
      "cell_type": "markdown",
      "metadata": {
        "id": "7dBnOSuUq1Kq"
      },
      "source": [
        "Задача № 10\n",
        "\n",
        "Треугольник Максима"
      ]
    },
    {
      "cell_type": "code",
      "execution_count": null,
      "metadata": {
        "colab": {
          "base_uri": "https://localhost:8080/"
        },
        "id": "8Otut8w-q3-F",
        "outputId": "60cc666e-b9fd-4b49-b132-e5329d525370"
      },
      "outputs": [
        {
          "name": "stdout",
          "output_type": "stream",
          "text": [
            "4\n",
            "1000\n",
            "500 closer\n",
            "1200 futher\n",
            "1100 futher\n",
            "30.0 750.0\n",
            "30.0 750.0\n",
            "30.0 750.0\n",
            "30.0 750.0\n"
          ]
        }
      ],
      "source": [
        "n = int(input())\n",
        "first_frq = float(input())\n",
        "data = [(float(frq), info) for _ in range(n - 1) for frq, info in [input().split()]]\n",
        "left = 30.0\n",
        "right = 4000.0\n",
        "for frq, info in data:\n",
        "    middle = abs(first_frq - frq) / 2\n",
        "    if frq > first_frq:\n",
        "        if info == 'closer':\n",
        "            info = 'further'\n",
        "        else:\n",
        "            info = 'closer'\n",
        "    if info == 'closer':\n",
        "        right_new = min(frq, first_frq) + middle\n",
        "        if right_new < right:\n",
        "            right = right_new\n",
        "    if info == 'further':\n",
        "        left_new = min(frq, first_frq) + middle\n",
        "        if left_new > left:\n",
        "            left = left_new\n",
        "    first_frq = frq\n",
        "print(left, right)"
      ]
    },
    {
      "cell_type": "markdown",
      "metadata": {
        "id": "gr2KuD-ilaSJ"
      },
      "source": [
        "### Лекция №3"
      ]
    },
    {
      "cell_type": "markdown",
      "metadata": {
        "id": "uIeC9tDkeET0"
      },
      "source": [
        "Задача №1\n",
        "\n",
        "Количество различных чисел"
      ]
    },
    {
      "cell_type": "code",
      "execution_count": null,
      "metadata": {
        "colab": {
          "base_uri": "https://localhost:8080/"
        },
        "id": "vhSMOys4lgDo",
        "outputId": "efc04676-eccc-40a3-d2a6-010fc9fa1175"
      },
      "outputs": [
        {
          "name": "stdout",
          "output_type": "stream",
          "text": [
            "1 2 3 4 2\n",
            "4\n"
          ]
        }
      ],
      "source": [
        "print(len(set(list(map(int, input().split())))))"
      ]
    },
    {
      "cell_type": "markdown",
      "metadata": {
        "id": "CclcBDIneZ5l"
      },
      "source": [
        "Задача №2\n",
        "\n",
        "Пересечение множеств"
      ]
    },
    {
      "cell_type": "code",
      "execution_count": null,
      "metadata": {
        "colab": {
          "base_uri": "https://localhost:8080/"
        },
        "id": "irWmm3djecWc",
        "outputId": "0c33b6b6-a9b6-48ea-c2f6-44e9169b35b9"
      },
      "outputs": [
        {
          "name": "stdout",
          "output_type": "stream",
          "text": [
            "15 20 30\n",
            "30 15 10\n",
            "15 30\n"
          ]
        }
      ],
      "source": [
        "print(*sorted(set(input().split()) & set(input().split()), key=lambda x: int(x)))"
      ]
    },
    {
      "cell_type": "markdown",
      "metadata": {
        "id": "_n9JkZ1_fl3h"
      },
      "source": [
        "Задача №3\n",
        "\n",
        "Кубики"
      ]
    },
    {
      "cell_type": "code",
      "execution_count": null,
      "metadata": {
        "colab": {
          "base_uri": "https://localhost:8080/"
        },
        "id": "geuIIKZGfoMM",
        "outputId": "047955b3-ffb6-45e3-edd7-335919e5145c"
      },
      "outputs": [
        {
          "name": "stdout",
          "output_type": "stream",
          "text": [
            "4 3\n",
            "0\n",
            "1\n",
            "10\n",
            "9\n",
            "1\n",
            "3\n",
            "0\n",
            "2\n",
            "0\n",
            "1\n",
            "2\n",
            "9\n",
            "10\n",
            "1\n",
            "3\n"
          ]
        }
      ],
      "source": [
        "N, M = map(int, input().split())\n",
        "anya = set([int(input()) for _ in range(N)])\n",
        "borya = set([int(input()) for _ in range(M)])\n",
        "print(len(anya & borya))\n",
        "print(*sorted(anya & borya), sep='\\n')\n",
        "print(len(anya - borya))\n",
        "print(*sorted(anya - borya), sep='\\n')\n",
        "print(len(borya - anya))\n",
        "print(*sorted(borya - anya), sep='\\n')\n"
      ]
    },
    {
      "cell_type": "markdown",
      "metadata": {
        "id": "QM15CXeNjODw"
      },
      "source": [
        "Задача №4\n",
        "\n",
        "Количество слов в тексте"
      ]
    },
    {
      "cell_type": "code",
      "execution_count": null,
      "metadata": {
        "id": "rge4g73FjRZc"
      },
      "outputs": [],
      "source": [
        "from sys import stdin\n",
        "\n",
        "lines = []\n",
        "for line in stdin:\n",
        "    lines.append(line.strip().split())\n",
        "\n",
        "myset = set()\n",
        "for line in lines:\n",
        "    for word in line:\n",
        "        #myset.add(word.strip('!?,;.:').lower())\n",
        "        myset.add(word)\n",
        "print(len(myset))\n"
      ]
    },
    {
      "cell_type": "markdown",
      "metadata": {
        "id": "9OyeJlkTnOhM"
      },
      "source": [
        "Задача №5\n",
        "\n",
        "OpenCalculator"
      ]
    },
    {
      "cell_type": "code",
      "execution_count": null,
      "metadata": {
        "colab": {
          "base_uri": "https://localhost:8080/"
        },
        "id": "z_kdmZlUni5m",
        "outputId": "e0bcfd66-1632-43b4-8333-6fb669ded680"
      },
      "outputs": [
        {
          "name": "stdout",
          "output_type": "stream",
          "text": [
            "1 2 3\n",
            "9679804\n",
            "6\n"
          ]
        }
      ],
      "source": [
        "x, y, z = input().split()\n",
        "avaliable_set = set([x, y, z])\n",
        "numbers = set(input())\n",
        "print(len(numbers - avaliable_set))"
      ]
    },
    {
      "cell_type": "markdown",
      "metadata": {
        "id": "9bmmhB-h2AJI"
      },
      "source": [
        "Задача №6\n",
        "\n",
        "Инопланетный геном"
      ]
    },
    {
      "cell_type": "code",
      "execution_count": null,
      "metadata": {
        "colab": {
          "base_uri": "https://localhost:8080/"
        },
        "id": "d3tBmW4b2DLN",
        "outputId": "bb40fafe-3b1f-4ef6-86ad-cad7e5862e64"
      },
      "outputs": [
        {
          "name": "stdout",
          "output_type": "stream",
          "text": [
            "ABBACAB\n",
            "BCABB\n",
            "4\n"
          ]
        }
      ],
      "source": [
        "str_1 = input()\n",
        "#genom_1 = [str_1[i] + str_1[i + 1] for i in range(len(str_1) - 1)]\n",
        "str_2 = input()\n",
        "genom_2 = set([str_2[i] + str_2[i + 1] for i in range(len(str_2) - 1)])\n",
        "neary = 0\n",
        "for i in range(len(str_1) - 1):\n",
        "    if str_1[i] + str_1[i + 1] in genom_2:\n",
        "        neary += 1\n",
        "print(neary)"
      ]
    },
    {
      "cell_type": "markdown",
      "metadata": {
        "id": "ohx_gF5b4RJ6"
      },
      "source": [
        "Задача №7\n",
        "\n",
        "Черепахи\n"
      ]
    },
    {
      "cell_type": "code",
      "execution_count": null,
      "metadata": {
        "colab": {
          "base_uri": "https://localhost:8080/"
        },
        "id": "88MUw66Y4T8O",
        "outputId": "e5df3a38-e968-4fd3-eef3-80a23018bb8b"
      },
      "outputs": [
        {
          "name": "stdout",
          "output_type": "stream",
          "text": [
            "10\n",
            "9 1\n",
            "8 1\n",
            "7 2\n",
            "6 2\n",
            "5 3\n",
            "4 4\n",
            "3 6\n",
            "2 7\n",
            "1 9\n",
            "0 8\n",
            "4\n"
          ]
        }
      ],
      "source": [
        "N = int(input())\n",
        "possible = set([(i - 1, N - i) for i in range(1, N + 1)])\n",
        "M = 0\n",
        "for _ in range(N):\n",
        "    var = tuple(map(int, input().split()))\n",
        "    if var in possible:\n",
        "        M += 1\n",
        "        possible.remove(var)\n",
        "print(M)"
      ]
    },
    {
      "cell_type": "markdown",
      "metadata": {
        "id": "1Uw-B_peCzIA"
      },
      "source": [
        "Задача №8\n",
        "\n",
        "Злые свинки"
      ]
    },
    {
      "cell_type": "code",
      "execution_count": null,
      "metadata": {
        "colab": {
          "base_uri": "https://localhost:8080/"
        },
        "id": "zAcTfvY_C1tx",
        "outputId": "3d77b2c7-1cba-45dc-e5d2-1510129baffe"
      },
      "outputs": [
        {
          "name": "stdout",
          "output_type": "stream",
          "text": [
            "5\n",
            "1 2\n",
            "1 3\n",
            "1 4\n",
            "2 3\n",
            "3 1\n",
            "3\n"
          ]
        }
      ],
      "source": [
        "N = int(input())\n",
        "birds = set([input().split()[0] for _ in range(N)])\n",
        "print(len(birds))"
      ]
    },
    {
      "cell_type": "markdown",
      "metadata": {
        "id": "puJiN76pHwAv"
      },
      "source": [
        "Задача №9\n",
        "\n",
        "Полиглоты"
      ]
    },
    {
      "cell_type": "code",
      "execution_count": null,
      "metadata": {
        "colab": {
          "base_uri": "https://localhost:8080/"
        },
        "id": "fKfF0px4Hx6V",
        "outputId": "d933428b-3c56-4ff5-fa91-bc34690e147c"
      },
      "outputs": [
        {
          "name": "stdout",
          "output_type": "stream",
          "text": [
            "2\n",
            "2\n",
            "pos\n",
            "kos\n",
            "1\n",
            "pos\n",
            "1\n",
            "pos\n",
            "2\n",
            "pos\n",
            "kos\n"
          ]
        }
      ],
      "source": [
        "N = int(input())\n",
        "M = int(input())\n",
        "every_know = set([input() for _ in range(M)])\n",
        "one_know = every_know\n",
        "for _ in range(N - 1):\n",
        "    M = int(input())\n",
        "    new_set = set([input() for _ in range(M)])\n",
        "    every_know = every_know & new_set\n",
        "    one_know = one_know | new_set\n",
        "print(len(every_know), *every_know, sep='\\n')\n",
        "print(len(one_know), *one_know, sep='\\n')"
      ]
    },
    {
      "cell_type": "markdown",
      "metadata": {
        "id": "74Isw-iwLEbd"
      },
      "source": [
        "Задача №10\n",
        "\n",
        "Пробежки по Манхэттену"
      ]
    },
    {
      "cell_type": "code",
      "execution_count": null,
      "metadata": {
        "colab": {
          "base_uri": "https://localhost:8080/"
        },
        "id": "ZOJzLqGmLHkh",
        "outputId": "cd3c1e83-07f1-4eb5-c1c8-b8dc5797c0bd"
      },
      "outputs": [
        {
          "name": "stdout",
          "output_type": "stream",
          "text": [
            "2 1 5\n",
            "0 1\n",
            "-2 1\n",
            "-2 3\n",
            "0 3\n",
            "2 5\n",
            "2\n",
            "2 4\n",
            "1 5\n"
          ]
        }
      ],
      "source": [
        "def get_possible_positions(prev, dot, d):\n",
        "    possible_positions = set()\n",
        "    for x in range(-d, d + 1):\n",
        "        for y in range(-(d - abs(x)), d - abs(x) + 1):\n",
        "            for var in prev:\n",
        "                if abs(dot[0] + x - var[0]) + abs(dot[1] + y - var[1]) <= t:\n",
        "                    possible_positions.add((dot[0] + x, dot[1] + y))\n",
        "    return possible_positions\n",
        "\n",
        "t, d, n = map(int, input().split())\n",
        "prev_place = tuple(map(int, input().split()))\n",
        "possible_positions = get_possible_positions({(0, 0)}, prev_place, d)\n",
        "for _ in range(n - 1):\n",
        "    next_place = tuple(map(int, input().split()))\n",
        "    possible_positions = get_possible_positions(possible_positions, next_place, d)\n",
        "print(len(possible_positions))\n",
        "for dot in possible_positions:\n",
        "    print(dot[0], dot[1])"
      ]
    },
    {
      "cell_type": "code",
      "execution_count": null,
      "metadata": {
        "colab": {
          "base_uri": "https://localhost:8080/"
        },
        "id": "0qLb_4PQNNZf",
        "outputId": "fb7794d9-e35c-4e17-afa4-af2703b299b5"
      },
      "outputs": [
        {
          "name": "stdout",
          "output_type": "stream",
          "text": [
            "2 1 5\n",
            "0 1\n",
            "-2 1\n",
            "-2 3\n",
            "0 3\n",
            "2 5\n",
            "2\n",
            "2 4\n",
            "1 5\n"
          ]
        }
      ],
      "source": [
        "def get_possible_positions(prev, dot, d):\n",
        "    possible_positions = set()\n",
        "    for x in range(-d, d + 1):\n",
        "        for y in range(-(d - abs(x)), d - abs(x) + 1):\n",
        "            possible_positions.add((dot[0] + x, dot[1] + y))\n",
        "    return possible_positions & prev\n",
        "\n",
        "t, d, n = map(int, input().split())\n",
        "steps = set()\n",
        "for x in range(-t, t + 1):\n",
        "    for y in range(-(t - abs(x)), t - abs(x) + 1):\n",
        "        steps.add((x, y))\n",
        "prev_place = tuple(map(int, input().split()))\n",
        "possible_positions = get_possible_positions(steps, prev_place, d)\n",
        "for _ in range(n - 1):\n",
        "    steps = set()\n",
        "    next_place = tuple(map(int, input().split()))\n",
        "    for prev in possible_positions:\n",
        "        for x in range(-t, t + 1):\n",
        "            for y in range(-(t - abs(x)), t - abs(x) + 1):\n",
        "                steps.add((x + prev[0], y + prev[1]))\n",
        "    possible_positions = get_possible_positions(steps, next_place, d)\n",
        "print(len(possible_positions))\n",
        "for dot in possible_positions:\n",
        "    print(dot[0], dot[1])"
      ]
    },
    {
      "cell_type": "markdown",
      "metadata": {
        "id": "kHVoWMtG8ASl"
      },
      "source": [
        "### Лекция №4\n"
      ]
    },
    {
      "cell_type": "markdown",
      "metadata": {
        "id": "icND5MSU8DyP"
      },
      "source": [
        "Задача №1\n",
        "\n",
        "Словарь синонимов"
      ]
    },
    {
      "cell_type": "code",
      "execution_count": null,
      "metadata": {
        "id": "6SZqk9mJ8DPD"
      },
      "outputs": [],
      "source": [
        "N = int(input())\n",
        "dict1 = {}\n",
        "dict2 = {}\n",
        "for _ in range(N):\n",
        "    word_1, word_2 = input().split()\n",
        "    dict1[word_1] = word_2\n",
        "    dict2[word_2] = word_1\n",
        "word = input()\n",
        "if word in dict1:\n",
        "    print(dict1[word])\n",
        "else:\n",
        "    print(dict2[word])"
      ]
    },
    {
      "cell_type": "markdown",
      "metadata": {
        "id": "mSUf2S_eASFq"
      },
      "source": [
        "Задача №2\n",
        "\n",
        "Номер появления слова"
      ]
    },
    {
      "cell_type": "code",
      "execution_count": null,
      "metadata": {
        "colab": {
          "base_uri": "https://localhost:8080/"
        },
        "id": "pm_TSQUn9dXg",
        "outputId": "24c11b61-7fcb-4948-d729-d0eabbbfffe9"
      },
      "outputs": [
        {
          "name": "stdout",
          "output_type": "stream",
          "text": [
            "0 0 0 0 0 0 1 0 0 1 0 0 1 0 2 2 0 0 0 0 1 2 3 3 1 1 4 0 1 0 1 2 4 1 5 0 0 "
          ]
        }
      ],
      "source": [
        "counter = {}\n",
        "with open('/content/input.txt', 'r') as file:\n",
        "    for line in file:\n",
        "        for word in line.strip().split():\n",
        "            counter[word] = 1 + counter.get(word, -1)\n",
        "            print(counter[word], end=' ')"
      ]
    },
    {
      "cell_type": "markdown",
      "metadata": {
        "id": "6Q2mz0QsCbcO"
      },
      "source": [
        "Задача №3\n",
        "\n",
        "Самое частое слово"
      ]
    },
    {
      "cell_type": "code",
      "execution_count": null,
      "metadata": {
        "colab": {
          "base_uri": "https://localhost:8080/"
        },
        "id": "mrJXY7HtCfcZ",
        "outputId": "2880af9e-1381-46f9-fa10-41f8107e5041"
      },
      "outputs": [
        {
          "name": "stdout",
          "output_type": "stream",
          "text": [
            "oh you touch my tralala mmm my ding ding dong\n",
            "ding\n"
          ]
        }
      ],
      "source": [
        "text = input().split()\n",
        "counter = {}\n",
        "for word in text:\n",
        "    counter[word] = 1 + counter.get(word, 0)\n",
        "counter_sort = sorted(list(counter.items()), key=lambda x : (-x[1], x[0]))\n",
        "print(counter_sort[0][0])"
      ]
    },
    {
      "cell_type": "code",
      "execution_count": null,
      "metadata": {
        "colab": {
          "base_uri": "https://localhost:8080/"
        },
        "id": "x0ejXeIlJIqu",
        "outputId": "8041aaba-3916-4cfc-9992-7cc2d6288576"
      },
      "outputs": [
        {
          "name": "stdout",
          "output_type": "stream",
          "text": [
            "banana\n"
          ]
        }
      ],
      "source": [
        "text = []\n",
        "counter = {}\n",
        "with open('input.txt', 'r') as file1:\n",
        "    for line in file1:\n",
        "    \tfor word in line.strip().split():\n",
        "            counter[word] = 1 + counter.get(word, 0)\n",
        "    counter_sort = sorted(list(counter.items()), key=lambda x : (-x[1], x[0]))\n",
        "    print(counter_sort[0][0])"
      ]
    },
    {
      "cell_type": "markdown",
      "metadata": {
        "id": "o9mljpgTNZg-"
      },
      "source": [
        "Задача №4\n",
        "\n",
        "Клавиатура"
      ]
    },
    {
      "cell_type": "code",
      "execution_count": null,
      "metadata": {
        "colab": {
          "base_uri": "https://localhost:8080/"
        },
        "id": "rC-sui5kNcez",
        "outputId": "2ef3313b-32ba-41f7-8c63-6af37d052901"
      },
      "outputs": [
        {
          "name": "stdout",
          "output_type": "stream",
          "text": [
            "5\n",
            "1 50 3 4 3\n",
            "16\n",
            "1 2 3 4 5 1 3 3 4 5 5 5 5 5 4 5\n",
            "YES\n",
            "NO\n",
            "YES\n",
            "NO\n",
            "YES\n"
          ]
        }
      ],
      "source": [
        "n = int(input())\n",
        "keys = list(map(int, input().split()))\n",
        "keys = {i: keys[i - 1] for i in range(1, n + 1)}\n",
        "k = int(input())\n",
        "pushes = list(map(int, input().split()))\n",
        "for push in pushes:\n",
        "    keys[push] -= 1\n",
        "for key in keys:\n",
        "    print('YES' if keys[key] < 0 else 'NO')"
      ]
    },
    {
      "cell_type": "markdown",
      "metadata": {
        "id": "APB0eSmvQ2dY"
      },
      "source": [
        "Задача №5\n",
        "\n",
        "Пирамида"
      ]
    },
    {
      "cell_type": "code",
      "execution_count": null,
      "metadata": {
        "colab": {
          "base_uri": "https://localhost:8080/"
        },
        "id": "1rWcA3EaQ7Q1",
        "outputId": "317868aa-acc5-4efb-fb5c-3274b8e3be3e"
      },
      "outputs": [
        {
          "name": "stdout",
          "output_type": "stream",
          "text": [
            "3\n",
            "3 2\n",
            "2 3\n",
            "3 3\n",
            "6\n"
          ]
        }
      ],
      "source": [
        "N = int(input())\n",
        "pyramid = {}\n",
        "answer = 0\n",
        "for _ in range(N):\n",
        "    w, h = map(int, input().split())\n",
        "    pyramid[w] = pyramid.get(w, []) + [h]\n",
        "for w in pyramid:\n",
        "    answer += max(pyramid[w])\n",
        "print(answer)"
      ]
    },
    {
      "cell_type": "markdown",
      "metadata": {
        "id": "7TMMY1uv7bYz"
      },
      "source": [
        "Задача №6\n",
        "\n",
        "Продажи"
      ]
    },
    {
      "cell_type": "code",
      "execution_count": null,
      "metadata": {
        "colab": {
          "base_uri": "https://localhost:8080/"
        },
        "id": "4qg2Oz9I7dqh",
        "outputId": "4db491a1-c7f3-4636-dfe9-822be708751d"
      },
      "outputs": [
        {
          "name": "stdout",
          "output_type": "stream",
          "text": [
            "Ivanov:\n",
            "envelope 5\n",
            "marker 3\n",
            "paper 17\n",
            "Petrov:\n",
            "envelope 20\n",
            "pens 5\n"
          ]
        }
      ],
      "source": [
        "data = {}\n",
        "with open('input.txt', 'r', encoding='utf-8') as file:\n",
        "    for line in file:\n",
        "        name, thing, count = line.strip().split()\n",
        "        if name not in data:\n",
        "            data[name] = {thing: int(count)}\n",
        "        else:\n",
        "            data[name][thing] = data[name].get(thing, 0) + int(count)\n",
        "for name in sorted(data):\n",
        "    print(f'{name}:')\n",
        "    for thing in sorted(data[name]):\n",
        "        print(thing, data[name][thing])"
      ]
    },
    {
      "cell_type": "markdown",
      "metadata": {
        "id": "b7adhxOd-ruZ"
      },
      "source": [
        "Задача №7\n",
        "\n",
        "Банковские счета"
      ]
    },
    {
      "cell_type": "code",
      "execution_count": null,
      "metadata": {
        "colab": {
          "base_uri": "https://localhost:8080/"
        },
        "id": "8COE386z9He1",
        "outputId": "15d65f51-1794-405a-b2fb-28efa09ae8d7"
      },
      "outputs": [
        {
          "name": "stdout",
          "output_type": "stream",
          "text": [
            "105\n",
            "-50\n",
            "ERROR\n"
          ]
        }
      ],
      "source": [
        "data = {}\n",
        "with open('input.txt', 'r', encoding='utf-8') as file:\n",
        "    for line in file:\n",
        "        info = line.strip().split()\n",
        "        if info[0] == 'DEPOSIT':\n",
        "            data[info[1]] = data.get(info[1], 0) + int(info[2])\n",
        "        if info[0] == 'WITHDRAW':\n",
        "            data[info[1]] = data.get(info[1], 0) - int(info[2])\n",
        "        if info[0] == 'BALANCE':\n",
        "            if info[1] in data:\n",
        "                print(data[info[1]])\n",
        "            else:\n",
        "                print('ERROR')\n",
        "        if info[0] == 'TRANSFER':\n",
        "            data[info[1]] = data.get(info[1], 0) - int(info[3])\n",
        "            data[info[2]] = data.get(info[2], 0) + int(info[3])\n",
        "        if info[0] == 'INCOME':\n",
        "            for name in data:\n",
        "                if data[name] > 0:\n",
        "                    data[name] += int(int(info[1]) / 100 * data[name])"
      ]
    },
    {
      "cell_type": "markdown",
      "metadata": {
        "id": "VG2cI4ynDUVk"
      },
      "source": [
        "Задача №8\n",
        "\n",
        "Расшифровка письменности Майя\n"
      ]
    },
    {
      "cell_type": "code",
      "execution_count": null,
      "metadata": {
        "colab": {
          "base_uri": "https://localhost:8080/"
        },
        "id": "2kjtVIA-uml-",
        "outputId": "9dda5983-071f-4261-8912-e0394f0dae8d"
      },
      "outputs": [
        {
          "name": "stdout",
          "output_type": "stream",
          "text": [
            "4 10\n",
            "abcd\n",
            "asdasmkihg\n",
            "0\n"
          ]
        }
      ],
      "source": [
        "g_len, S_len = map(int, input().split())\n",
        "g = input()\n",
        "state = {}\n",
        "for sym in g:\n",
        "    state[sym] = state.get(sym, 0) + 1\n",
        "#print(state)\n",
        "S = input()\n",
        "prob = {}\n",
        "counter = 0\n",
        "answer = 0\n",
        "for i in range(g_len):\n",
        "    if S[i] in state:\n",
        "        prob[S[i]] = prob.get(S[i], 0) + 1\n",
        "        if prob[S[i]] == state[S[i]] + 1:\n",
        "            counter -= 1\n",
        "        if prob[S[i]] == state[S[i]]:\n",
        "            counter += 1\n",
        "#    print(prob, counter)\n",
        "if counter == len(state):\n",
        "    answer += 1\n",
        "for j in range(g_len, S_len):\n",
        "    prev = S[j - g_len]\n",
        "    now = S[j]\n",
        "    if prev in state:\n",
        "        prob[prev] -= 1\n",
        "        if prob[prev] == state[prev] - 1:\n",
        "            counter -= 1\n",
        "        if prob[prev] == state[prev]:\n",
        "            counter += 1\n",
        "    if now in state:\n",
        "        prob[now] = prob.get(now, 0) + 1\n",
        "        if prob[now] == state[now] + 1:\n",
        "            counter -= 1\n",
        "        if prob[now] == state[now]:\n",
        "            counter += 1\n",
        "    if counter == len(state):\n",
        "        answer += 1\n",
        "#   print(prob, counter)\n",
        "print(answer)"
      ]
    },
    {
      "cell_type": "markdown",
      "metadata": {
        "id": "H4CvVT8E7Rz0"
      },
      "source": [
        "Задача №9\n",
        "\n",
        "Контрольная по ударениям"
      ]
    },
    {
      "cell_type": "code",
      "execution_count": null,
      "metadata": {
        "id": "4fxKrLK_7Uo9"
      },
      "outputs": [],
      "source": [
        "N = int(input())\n",
        "vasya_dict = {}\n",
        "for _ in range(N):\n",
        "    word = input()\n",
        "    if word.lower() in vasya_dict:\n",
        "        vasya_dict[word.lower()].add(word)\n",
        "    else:\n",
        "        vasya_dict[word.lower()] = set([word])\n",
        "#print(vasya_dict)\n",
        "exersice = input().split()\n",
        "mistakes = 0\n",
        "for word in exersice:\n",
        "    if word.lower() not in vasya_dict:\n",
        "        cnt = 0\n",
        "        for symb in word:\n",
        "            if symb.isupper():\n",
        "                cnt += 1\n",
        "        if cnt != 1:\n",
        "            mistakes += 1\n",
        "    else:\n",
        "        if word not in vasya_dict[word.lower()]:\n",
        "            mistakes += 1\n",
        "print(mistakes)"
      ]
    },
    {
      "cell_type": "markdown",
      "metadata": {
        "id": "qRYQ1QcHN56e"
      },
      "source": [
        "Задача №10\n",
        "\n",
        "Дополнительная проверка на списывание\n"
      ]
    },
    {
      "cell_type": "code",
      "execution_count": null,
      "metadata": {
        "colab": {
          "base_uri": "https://localhost:8080/"
        },
        "id": "TJOOJKl_N9SG",
        "outputId": "6565a24d-e6a1-40da-9329-3eda77bc8e26"
      },
      "outputs": [
        {
          "name": "stdout",
          "output_type": "stream",
          "text": [
            "0h\n"
          ]
        }
      ],
      "source": [
        "with open(r\"input.txt\", 'r') as file:\n",
        "    identificators = {}\n",
        "    n, C, D = file.readline().strip().split()\n",
        "    key_words = set()\n",
        "    key_words_lower = set()\n",
        "    for _ in range(int(n)):\n",
        "        stroka = file.readline().strip()\n",
        "        key_words.add(stroka)\n",
        "        key_words_lower.add(stroka.lower())\n",
        "    key_words.add('')\n",
        "    key_words_lower.add('')\n",
        "    for line in file:\n",
        "        stroka = line.strip() + '!'\n",
        "        word = ''\n",
        "        symb_cnt = 0\n",
        "        for symb in stroka:\n",
        "            symb_cnt += 1\n",
        "            if symb.isalnum() or symb == '_':\n",
        "                word += symb\n",
        "            elif C == 'yes' and (word not in key_words) and not word.isdigit():\n",
        "                if (D == 'no' and not word[0].isdigit()) or D == 'yes':\n",
        "                    identificators[word] = identificators.get(word, 0) + 1\n",
        "                    word = ''\n",
        "                else:\n",
        "                    word = ''\n",
        "            elif C == 'no' and (word.lower() not in key_words_lower) and not word.isdigit():\n",
        "                if (D == 'no' and not word[0].isdigit()) or D == 'yes':\n",
        "                    identificators[word.lower()] = identificators.get(word.lower(), 0) + 1\n",
        "                    word = ''\n",
        "                else:\n",
        "                    word = ''\n",
        "            else:\n",
        "                word = ''\n",
        "print(sorted(identificators, key=lambda x: -identificators[x])[0])"
      ]
    },
    {
      "cell_type": "markdown",
      "metadata": {
        "id": "CmblW72FvUef"
      },
      "source": [
        "### Лекция №5\n"
      ]
    },
    {
      "cell_type": "markdown",
      "metadata": {
        "id": "eNv-sL2bvrZ_"
      },
      "source": [
        "Задача №1\n",
        "\n",
        "Стильная одежда"
      ]
    },
    {
      "cell_type": "code",
      "execution_count": null,
      "metadata": {
        "id": "iQhECHVavlC4"
      },
      "outputs": [],
      "source": [
        "N = int(input())\n",
        "shirts = list(map(int, input().split()))\n",
        "M = int(input())\n",
        "jeans = list(map(int, input().split()))\n",
        "last = 0\n",
        "best = (shirts[0], jeans[0])\n",
        "for first in range(N):\n",
        "    prev = abs(shirts[first] - jeans[last])\n",
        "    while last <= M - 2 and abs(shirts[first] - jeans[last + 1]) < prev:\n",
        "        last += 1\n",
        "        prev = abs(shirts[first] - jeans[last])\n",
        "    if abs(best[0] - best[1]) > prev:\n",
        "        best = (shirts[first], jeans[last])\n",
        "print(*best)"
      ]
    },
    {
      "cell_type": "markdown",
      "metadata": {
        "id": "NSUqfDvct-hF"
      },
      "source": [
        "Задача №2\n",
        "\n",
        "Сумма номеров"
      ]
    },
    {
      "cell_type": "code",
      "execution_count": null,
      "metadata": {
        "colab": {
          "base_uri": "https://localhost:8080/"
        },
        "id": "tj9KDCDluIWS",
        "outputId": "9a24f2d0-0635-4ae0-a522-1b24ec434367"
      },
      "outputs": [
        {
          "name": "stdout",
          "output_type": "stream",
          "text": [
            "5 17\n",
            "17 7 10 7 10\n"
          ]
        },
        {
          "data": {
            "text/plain": [
              "4"
            ]
          },
          "execution_count": 5,
          "metadata": {},
          "output_type": "execute_result"
        }
      ],
      "source": [
        "def make_prefix_sum(seq):\n",
        "    prefix_sum = [0] * len(seq) + 1\n",
        "    for i in range(1, len(prefix_sum)):\n",
        "        prefix_sum[i] = prefix_sum[i - 1] + seq[i - 1]\n",
        "    return prefix_sum\n",
        "\n",
        "N, K = map(int, input().split())\n",
        "numbers = list(map(int, input().split()))\n",
        "answer = 0\n",
        "subarray_sum = 0\n",
        "prefix_sum = {0: 1}\n",
        "for i in range(N):\n",
        "    subarray_sum += numbers[i]\n",
        "    prefix_sum[subarray_sum] = prefix_sum.get(subarray_sum, 0) + 1\n",
        "    to_remove = subarray_sum - K\n",
        "    answer += prefix_sum.get(to_remove, 0)\n",
        "print(answer)"
      ]
    },
    {
      "cell_type": "markdown",
      "metadata": {
        "id": "CBavEvgH2BtN"
      },
      "source": [
        "Задача №3\n",
        "\n",
        "Туризм"
      ]
    },
    {
      "cell_type": "code",
      "execution_count": null,
      "metadata": {
        "colab": {
          "base_uri": "https://localhost:8080/"
        },
        "id": "F3wCd0Ll2EbJ",
        "outputId": "3a4162e5-4b23-46fd-a6a2-b2aab0f799d9"
      },
      "outputs": [
        {
          "name": "stdout",
          "output_type": "stream",
          "text": [
            "4\n",
            "1 2\n",
            "2 7\n",
            "3 6\n",
            "4 8\n",
            "2\n",
            "1 4\n",
            "7\n",
            "4 1\n",
            "1\n"
          ]
        }
      ],
      "source": [
        "N = int(input())\n",
        "height_sum_right = [0] * (N + 1)\n",
        "height_sum_left = [0] * (N + 1)\n",
        "prev = 0\n",
        "for i in range(1, N + 1):\n",
        "    _, y = map(int, input().split())\n",
        "    diff = y - prev\n",
        "    height_sum_right[i] = height_sum_right[i - 1] + (diff if diff > 0 else 0)\n",
        "    height_sum_left[i] = height_sum_left[i - 1] + (abs(diff) if diff < 0 else 0)\n",
        "    prev = y\n",
        "M = int(input())\n",
        "for _ in range(M):\n",
        "    L, R = map(int, input().split())\n",
        "    if R > L:\n",
        "        print(height_sum_right[R] - height_sum_right[L])\n",
        "    else:\n",
        "        print(height_sum_left[L] - height_sum_left[R])\n"
      ]
    },
    {
      "cell_type": "markdown",
      "metadata": {
        "id": "vXNdXm2w9RLo"
      },
      "source": [
        "Задача №4\n",
        "\n",
        "Город Че"
      ]
    },
    {
      "cell_type": "code",
      "execution_count": null,
      "metadata": {
        "colab": {
          "base_uri": "https://localhost:8080/"
        },
        "id": "9n6Z9JNr9ToD",
        "outputId": "adf49dd4-59a5-4134-ae73-78eaace9532e"
      },
      "outputs": [
        {
          "name": "stdout",
          "output_type": "stream",
          "text": [
            "5 5\n",
            "1 2 3 4 10\n",
            "4\n"
          ]
        }
      ],
      "source": [
        "n, r = map(int, input().split())\n",
        "distance = list(map(int, input().split()))\n",
        "last = 1\n",
        "pairs = 0\n",
        "for first in range(n):\n",
        "    while last < n - 1 and distance[last] - distance[first] <= r:\n",
        "        last += 1\n",
        "    if distance[last] - distance[first] > r:\n",
        "        pairs += (n - last)\n",
        "print(pairs)"
      ]
    },
    {
      "cell_type": "markdown",
      "metadata": {
        "id": "WaXKaHDPqluH"
      },
      "source": [
        "Задача №5\n",
        "\n",
        "Красота превыше всего"
      ]
    },
    {
      "cell_type": "code",
      "execution_count": null,
      "metadata": {
        "id": "a6cnTVBkxnXh"
      },
      "outputs": [],
      "source": [
        "N, K = map(int, input().split())\n",
        "colors = list(map(int, input().split()))\n",
        "last = 1\n",
        "counter_dict = {}\n",
        "counter = 0\n",
        "i = 0\n",
        "while counter != K:\n",
        "    counter_dict[colors[i]] = counter_dict.get(colors[i], 0) + 1\n",
        "    if counter_dict[colors[i]] == 1:\n",
        "        counter += 1\n",
        "    last = i\n",
        "    i += 1\n",
        "best_len = i\n",
        "best_pair = (1, last + 1)\n",
        "for first in range(1, N):\n",
        "    counter_dict[colors[first - 1]] -= 1\n",
        "    if counter_dict[colors[first - 1]] == 0:\n",
        "        counter -= 1\n",
        "    while last - first + 1 < best_len and counter != K and last < N - 1:\n",
        "        last += 1\n",
        "        counter_dict[colors[last]] += 1\n",
        "        if counter_dict[colors[last]] == 1:\n",
        "            counter += 1\n",
        "    if counter == K:\n",
        "        best_len = last - first + 1\n",
        "        best_pair = (first + 1, last + 1)\n",
        "print(*best_pair)"
      ]
    },
    {
      "cell_type": "markdown",
      "metadata": {
        "id": "4NI1lQjz40r3"
      },
      "source": [
        "Задача №6\n",
        "\n",
        "Кондиционеры"
      ]
    },
    {
      "cell_type": "code",
      "execution_count": null,
      "metadata": {
        "colab": {
          "base_uri": "https://localhost:8080/"
        },
        "id": "nEPdH_Hl4_gY",
        "outputId": "89686010-6b3a-4a7e-b7a1-0efe6ac775b4"
      },
      "outputs": [
        {
          "name": "stdout",
          "output_type": "stream",
          "text": [
            "3\n",
            "1 2 3\n",
            "4\n",
            "1 10\n",
            "1 5\n",
            "10 7\n",
            "2 3\n",
            "13\n"
          ]
        }
      ],
      "source": [
        "n = int(input())\n",
        "power_id = sorted(list(map(int, input().split())))\n",
        "m = int(input())\n",
        "prices = sorted([(int(b), int(c)) for _ in range(m) for b, c in [input().split()]], \\\n",
        "                key=lambda x: x[1])\n",
        "last = 0\n",
        "sum = 0\n",
        "for first in range(n):\n",
        "    while last < m - 1 and prices[last][0] < power_id[first]:\n",
        "        last += 1\n",
        "    sum += prices[last][1]\n",
        "print(sum)"
      ]
    },
    {
      "cell_type": "markdown",
      "metadata": {
        "id": "9xdHNaV293C6"
      },
      "source": [
        "Задача №7\n",
        "\n",
        "Счет в гипершашках"
      ]
    },
    {
      "cell_type": "code",
      "execution_count": null,
      "metadata": {
        "colab": {
          "base_uri": "https://localhost:8080/"
        },
        "id": "fTAavyri96DT",
        "outputId": "fafb18d6-6a86-4e64-ca04-caddfc91604c"
      },
      "outputs": [
        {
          "name": "stdout",
          "output_type": "stream",
          "text": [
            "7 15\n",
            "1 2 3 10 20 20 20\n",
            "52\n"
          ]
        }
      ],
      "source": [
        "n, k = map(int, input().split())\n",
        "numbers = list(map(int, input().split()))\n",
        "numbers_counter = {}\n",
        "for num in numbers:\n",
        "    numbers_counter[num] = numbers_counter.get(num, 0) + 1\n",
        "nums_keys = sorted(list(numbers_counter.keys()))\n",
        "R = 1\n",
        "double_counter = 0\n",
        "triads = 0\n",
        "n = len(nums_keys)\n",
        "for L in range(n):\n",
        "    while R <= n - 1 and nums_keys[R] <= k * nums_keys[L]:\n",
        "        if numbers_counter[nums_keys[R]] > 1:\n",
        "            double_counter += 1\n",
        "        R += 1\n",
        "    triads += 6 * (R - L - 1) * (R - L - 2) / 2\n",
        "    if numbers_counter[nums_keys[L]] >= 2:\n",
        "        triads += (R - L - 1) * 3\n",
        "    if numbers_counter[nums_keys[L]] >= 3:\n",
        "        triads += 1\n",
        "    triads += double_counter * 3\n",
        "    if L != n - 1 and numbers_counter[nums_keys[L + 1]] > 1:\n",
        "        double_counter -= 1\n",
        "print(int(triads))"
      ]
    },
    {
      "cell_type": "markdown",
      "metadata": {
        "id": "zupdaH9i-c2H"
      },
      "source": [
        "Задача №8\n",
        "\n",
        "Подстрока"
      ]
    },
    {
      "cell_type": "code",
      "execution_count": null,
      "metadata": {
        "colab": {
          "base_uri": "https://localhost:8080/"
        },
        "id": "zBo4BwJh-hGB",
        "outputId": "1ac58644-8d25-4532-ff66-fbc4e07fdbbd"
      },
      "outputs": [
        {
          "name": "stdout",
          "output_type": "stream",
          "text": [
            "6 2\n",
            "aabbcc\n",
            "6 1\n"
          ]
        }
      ],
      "source": [
        "n, k = map(int, input().split())\n",
        "stroka = input()\n",
        "symbols_counter = {}\n",
        "left = 0\n",
        "right = 0\n",
        "while right < n:\n",
        "    curr = symbols_counter.get(stroka[right], 0) + 1\n",
        "    if curr > k:\n",
        "        break\n",
        "    symbols_counter[stroka[right]] = curr\n",
        "    right += 1\n",
        "best_len = right - left\n",
        "best_index = left + 1\n",
        "for left in range(1, n):\n",
        "    symbols_counter[stroka[left - 1]] -= 1\n",
        "    while right < n:\n",
        "        curr = symbols_counter.get(stroka[right], 0) + 1\n",
        "        if curr > k:\n",
        "            break\n",
        "        symbols_counter[stroka[right]] = curr\n",
        "        right += 1\n",
        "    curr_len = right - left\n",
        "    if curr_len > best_len:\n",
        "        best_len = curr_len\n",
        "        best_index = left + 1\n",
        "print(best_len, best_index)"
      ]
    },
    {
      "cell_type": "markdown",
      "metadata": {
        "id": "Jty3rpTlVkfS"
      },
      "source": [
        "Задача №9\n",
        "\n",
        "Робот"
      ]
    },
    {
      "cell_type": "code",
      "execution_count": null,
      "metadata": {
        "colab": {
          "base_uri": "https://localhost:8080/"
        },
        "id": "Tv3SQxjLVn9b",
        "outputId": "e1aba40a-fedb-4e44-d653-26e4ac49d778"
      },
      "outputs": [
        {
          "name": "stdout",
          "output_type": "stream",
          "text": [
            "4\n",
            "abcdabcd\n",
            "10\n"
          ]
        }
      ],
      "source": [
        "K = int(input())\n",
        "operations = input()\n",
        "counter = 0\n",
        "\n",
        "repetetive = -1\n",
        "for L in range(len(operations) - K):\n",
        "    if operations[L] == operations[L + K]:\n",
        "        counter += 1\n",
        "        repetetive += 1\n",
        "        counter += repetetive\n",
        "    else:\n",
        "        repetetive = -1\n",
        "print(counter)\n"
      ]
    },
    {
      "cell_type": "markdown",
      "metadata": {
        "id": "jHdijR0ukag2"
      },
      "source": [
        "Задача №10\n",
        "\n",
        "Треугольники"
      ]
    },
    {
      "cell_type": "code",
      "execution_count": null,
      "metadata": {
        "colab": {
          "base_uri": "https://localhost:8080/"
        },
        "id": "jSBpeP1AkdiT",
        "outputId": "6ac36d18-3d48-4f8e-d1d1-9c44cf373750"
      },
      "outputs": [
        {
          "name": "stdout",
          "output_type": "stream",
          "text": [
            "4\n",
            "0 0\n",
            "1 1\n",
            "1 0\n",
            "0 1\n",
            "4\n"
          ]
        }
      ],
      "source": [
        "n = int(input())\n",
        "coordinates = [(int(x), int(y)) for _ in range(n)\\\n",
        "               for x, y in [input().split()]]\n",
        "answer = 0\n",
        "for middle in range(n):\n",
        "    x0, y0 = coordinates[middle]\n",
        "    dotes_dict = {}\n",
        "    dotes_set = set()\n",
        "    for second in range(n):\n",
        "        x, y = coordinates[second]\n",
        "        x_hat, y_hat = x - x0, y - y0\n",
        "        distance_sq = x_hat**2 + y_hat**2\n",
        "        if (-x_hat, -y_hat) in dotes_set:\n",
        "            answer -= 1\n",
        "        dotes_set.add((x_hat, y_hat))\n",
        "        dotes_dict[distance_sq] = dotes_dict.get(distance_sq, 0) + 1\n",
        "        answer += dotes_dict[distance_sq] - 1\n",
        "print(answer)"
      ]
    },
    {
      "cell_type": "markdown",
      "metadata": {
        "id": "1DJz04Ks2mT0"
      },
      "source": []
    },
    {
      "cell_type": "markdown",
      "metadata": {
        "id": "9mqvNHCe2oDg"
      },
      "source": [
        "### Лекция №6\n"
      ]
    },
    {
      "cell_type": "markdown",
      "metadata": {
        "id": "DYy18ZHN2ytu"
      },
      "source": [
        "Задача №1\n",
        "\n",
        "Двоичный поиск"
      ]
    },
    {
      "cell_type": "code",
      "execution_count": null,
      "metadata": {
        "id": "TiEKY3Nc2sXb"
      },
      "outputs": [],
      "source": [
        "N, K = map(int, input().split())\n",
        "numbers = sorted(list(map(int, input().split())))\n",
        "K_nums = list(map(int, input().split()))\n",
        "for num in K_nums:\n",
        "    L = 0\n",
        "    R = N\n",
        "    while L < R:\n",
        "        m = (L + R) // 2\n",
        "        if numbers[m] >= num:\n",
        "            R = m\n",
        "        else:\n",
        "            L = m + 1\n",
        "    if L < N and numbers[L] == num:\n",
        "        print('YES')\n",
        "    else:\n",
        "        print('NO')"
      ]
    },
    {
      "cell_type": "markdown",
      "metadata": {
        "id": "HTOpDi5pUZ-u"
      },
      "source": [
        "Задача №2\n",
        "\n",
        "Приближенный двоичный поиск"
      ]
    },
    {
      "cell_type": "code",
      "execution_count": null,
      "metadata": {
        "id": "m8ygvyzsUctu"
      },
      "outputs": [],
      "source": [
        "N, K = map(int, input().split())\n",
        "numbers = list(map(int, input().split()))\n",
        "K_nums = list(map(int, input().split()))\n",
        "for num in K_nums:\n",
        "    L = 0\n",
        "    R = N - 1\n",
        "    while L < R:\n",
        "        m = (L + R) // 2\n",
        "        if numbers[m] >= num:\n",
        "            R = m\n",
        "        else:\n",
        "            L = m + 1\n",
        "    if abs(numbers[L] - num) >= abs(num - numbers[L - 1]):\n",
        "        print(numbers[L - 1])\n",
        "    else:\n",
        "        print(numbers[L])"
      ]
    },
    {
      "cell_type": "markdown",
      "metadata": {
        "id": "Xm2qPRQa2jSt"
      },
      "source": [
        "Задача №3\n",
        "\n",
        "Дипломы"
      ]
    },
    {
      "cell_type": "code",
      "execution_count": null,
      "metadata": {
        "colab": {
          "base_uri": "https://localhost:8080/"
        },
        "id": "1iGIlZ_527Dg",
        "outputId": "f0dcc8a7-4d4f-4258-d225-4fe9973a9584"
      },
      "outputs": [
        {
          "name": "stdout",
          "output_type": "stream",
          "text": [
            "2 3 10\n",
            "9\n"
          ]
        }
      ],
      "source": [
        "def check(m, params):\n",
        "    w, h, n = params\n",
        "    size = m\n",
        "    return (size // h) * (size // w) >= n\n",
        "\n",
        "def lbinsearch(l, r, check, params):\n",
        "    while l < r:\n",
        "        m = (l + r) // 2\n",
        "        if check(m, params):\n",
        "            r = m\n",
        "        else:\n",
        "            l = m + 1\n",
        "    return l\n",
        "\n",
        "\n",
        "w, h, n = map(int, input().split())\n",
        "a_max = max(w, h) * n\n",
        "L = 0\n",
        "R = a_max\n",
        "L = lbinsearch(L, R, check, (w, h, n))\n",
        "print(L)"
      ]
    },
    {
      "cell_type": "markdown",
      "metadata": {
        "id": "KJphDDL15OEh"
      },
      "source": [
        "Задача №4\n",
        "\n",
        "Космическое поселение"
      ]
    },
    {
      "cell_type": "code",
      "execution_count": null,
      "metadata": {
        "colab": {
          "base_uri": "https://localhost:8080/"
        },
        "id": "fZCiGK7X5PqU",
        "outputId": "c06e0f85-6aef-45ec-feb2-ed7e5b14465b"
      },
      "outputs": [
        {
          "name": "stdout",
          "output_type": "stream",
          "text": [
            "10 5 2 100 130\n",
            "14 14 13\n"
          ]
        }
      ],
      "source": [
        "def check(size, params):\n",
        "    n, x, y, w, h  = params\n",
        "    return (w // (x + 2 * size)) * (h // (y + 2 * size)) >= n\n",
        "\n",
        "def rbinsearch(l, r, check, params):\n",
        "    while l < r:\n",
        "        m = (l + r + 1) // 2\n",
        "        if check(m, params):\n",
        "            l = m\n",
        "        else:\n",
        "            r = m - 1\n",
        "    return l\n",
        "\n",
        "n, a, b, w, h = map(int, input().split())\n",
        "params1 = (n, a, b, w, h)\n",
        "params2 = (n, b, a, w, h)\n",
        "d_max = min(w, h)\n",
        "L = 0\n",
        "R = d_max\n",
        "d1 = rbinsearch(L, R, check, params1)\n",
        "d2 = rbinsearch(L, R, check, params2)\n",
        "print(max(d1, d2))"
      ]
    },
    {
      "cell_type": "markdown",
      "metadata": {
        "id": "_x2HKhOIFVn_"
      },
      "source": [
        "Задача №5\n",
        "\n",
        "Улучшение успеваемости"
      ]
    },
    {
      "cell_type": "code",
      "execution_count": null,
      "metadata": {
        "id": "LMNv7lkZFYkG"
      },
      "outputs": [],
      "source": [
        "def check(count, params):\n",
        "    pr_sum, pr_count = params\n",
        "    return (pr_sum + 5 * count) >= 3.5 * (pr_count + count)\n",
        "\n",
        "def lbinsearch(l, r, check, params):\n",
        "    while l < r:\n",
        "        m = (l + r) // 2\n",
        "        if check(m, params):\n",
        "            r = m\n",
        "        else:\n",
        "            l = m + 1\n",
        "    return l\n",
        "\n",
        "a, b, c = [int(input()) for _ in range(3)]\n",
        "L = 0\n",
        "R = 2 * a + b\n",
        "prev_sum = 2 * a + 3 * b + 4 * c\n",
        "prev_count = a + b + c\n",
        "count = lbinsearch(L, R, check, (prev_sum, prev_count))\n",
        "print(count)"
      ]
    },
    {
      "cell_type": "markdown",
      "metadata": {
        "id": "5hdX-GDVJZma"
      },
      "source": [
        "Задача №6\n",
        "\n",
        "Очень легкая задача"
      ]
    },
    {
      "cell_type": "code",
      "execution_count": null,
      "metadata": {
        "colab": {
          "base_uri": "https://localhost:8080/"
        },
        "id": "Dw57GHdYJecq",
        "outputId": "f1e8b452-8f7c-4e92-b55d-0517447f4bfb"
      },
      "outputs": [
        {
          "name": "stdout",
          "output_type": "stream",
          "text": [
            "5 1 2\n",
            "4\n"
          ]
        }
      ],
      "source": [
        "def check(time, params):\n",
        "    N, x, y = params\n",
        "    return (time // x) + (time // y) >= N - 1\n",
        "\n",
        "def lbinsearch(l, r, check, params):\n",
        "    while l < r:\n",
        "        m = (l + r) // 2\n",
        "        if check(m, params):\n",
        "            r = m\n",
        "        else:\n",
        "            l = m + 1\n",
        "    return l\n",
        "\n",
        "N, x, y = map(int, input().split())\n",
        "L = 0\n",
        "R = N * max(x, y)\n",
        "time = lbinsearch(L, R, check, (N, x, y))\n",
        "print(time + min(x, y))"
      ]
    },
    {
      "cell_type": "markdown",
      "metadata": {
        "id": "YFdYPnTlLn2N"
      },
      "source": [
        "Задача №7\n",
        "\n",
        "Площадь"
      ]
    },
    {
      "cell_type": "code",
      "execution_count": null,
      "metadata": {
        "colab": {
          "base_uri": "https://localhost:8080/"
        },
        "id": "KZ79crQXLpfz",
        "outputId": "3ed0743f-d60f-458e-d7d3-cbb2ed4aa1c9"
      },
      "outputs": [
        {
          "name": "stdout",
          "output_type": "stream",
          "text": [
            "6\n",
            "7\n",
            "38\n",
            "2\n"
          ]
        }
      ],
      "source": [
        "def check(width, params):\n",
        "    n, m, t = params\n",
        "    return n * m - (n - 2 * width) * (m - 2 * width) <= t\n",
        "\n",
        "def rbinsearch(l, r, check, params):\n",
        "    while l < r:\n",
        "        m = (l + r + 1) // 2\n",
        "        if check(m, params):\n",
        "            l = m\n",
        "        else:\n",
        "            r = m - 1\n",
        "    return l\n",
        "\n",
        "n, m, t = [int(input()) for _ in range(3)]\n",
        "L = 0\n",
        "R = min(n // 2, m // 2)\n",
        "d = rbinsearch(L, R, check, (n, m, t))\n",
        "print(d)"
      ]
    },
    {
      "cell_type": "markdown",
      "metadata": {
        "id": "syyz5KGGSeKW"
      },
      "source": [
        "Задача №8\n",
        "\n",
        "Провода"
      ]
    },
    {
      "cell_type": "code",
      "execution_count": null,
      "metadata": {
        "id": "Xa0OEuWNShL3"
      },
      "outputs": [],
      "source": [
        "def check(part_len, params):\n",
        "    K, wires = params\n",
        "    sum_wr = 0\n",
        "    for wire in wires:\n",
        "        sum_wr += wire // part_len\n",
        "    return sum_wr >= K\n",
        "\n",
        "def rbinsearch(l, r, check, params):\n",
        "    while l < r:\n",
        "        m = (l + r + 1) // 2\n",
        "        if check(m, params):\n",
        "            l = m\n",
        "        else:\n",
        "            r = m - 1\n",
        "    return l\n",
        "\n",
        "N, K = map(int, input().split())\n",
        "wires = [int(input()) for _ in range(N)]\n",
        "if sum(wires) < K:\n",
        "    print(0)\n",
        "else:\n",
        "    L = 1\n",
        "    R = max(wires)\n",
        "    part_len = rbinsearch(L, R, check, (K, wires))\n",
        "    print(part_len)"
      ]
    },
    {
      "cell_type": "markdown",
      "metadata": {
        "id": "bajIjSTypoi6"
      },
      "source": [
        "Задача №9\n",
        "\n",
        "Субботник"
      ]
    },
    {
      "cell_type": "code",
      "execution_count": null,
      "metadata": {
        "id": "exECxtg8ptGv"
      },
      "outputs": [],
      "source": [
        "def check(diff, params):\n",
        "    N, min_brigades, C, height = params\n",
        "    brigade_count = 0\n",
        "    i = 0\n",
        "    while i < N - C + 1:\n",
        "        if height[i + C - 1] - height[i] <= diff:\n",
        "            brigade_count  += 1\n",
        "            i += C\n",
        "        else:\n",
        "            i += 1\n",
        "    return brigade_count >= min_brigades\n",
        "\n",
        "def lbinsearch(l, r, check, params):\n",
        "    while l < r:\n",
        "        m = (l + r) // 2\n",
        "        if check(m, params):\n",
        "            r = m\n",
        "        else:\n",
        "            l = m + 1\n",
        "    return l\n",
        "\n",
        "N, min_brigades, C = map(int, input().split())\n",
        "height = sorted([int(input()) for _ in range(N)])\n",
        "L = 0\n",
        "R = height[-1] - height[0]\n",
        "max_diff = lbinsearch(L, R, check, (N, min_brigades, C, height))\n",
        "print(max_diff)"
      ]
    },
    {
      "cell_type": "markdown",
      "metadata": {
        "id": "B4wS32Ci6OA7"
      },
      "source": [
        "Задача №10\n",
        "\n",
        "Медиана объединения"
      ]
    },
    {
      "cell_type": "code",
      "execution_count": null,
      "metadata": {
        "colab": {
          "base_uri": "https://localhost:8080/"
        },
        "id": "7CQrubJX6a45",
        "outputId": "4ccf7d12-5bcc-48f0-9f02-53788ed849cc"
      },
      "outputs": [
        {
          "name": "stdout",
          "output_type": "stream",
          "text": [
            "3 6\n",
            "1 4 7 10 13 16 \n",
            "0 2 5 9 14 20\n",
            "1 7 16 16 21 22\n",
            "7\n",
            "10\n",
            "9\n"
          ]
        }
      ],
      "source": [
        "N, L = map(int, input().split())\n",
        "numbers_lists = [list(map(int, input().split())) for _ in range(N)]\n",
        "for i in range(N):\n",
        "    for j in range(i + 1, N):\n",
        "        elem = sorted(numbers_lists[i] + numbers_lists[j])[L - 1]\n",
        "        print(elem)"
      ]
    },
    {
      "cell_type": "markdown",
      "metadata": {
        "id": "lRrQ-fwl9T4X"
      },
      "source": [
        "Задача №11\n",
        "\n",
        "Медиана объединения-2"
      ]
    },
    {
      "cell_type": "code",
      "execution_count": null,
      "metadata": {
        "colab": {
          "base_uri": "https://localhost:8080/"
        },
        "id": "hNBZeVuL9XrO",
        "outputId": "7a98869c-864d-4a0a-fe1f-b5104d2a3aab"
      },
      "outputs": [
        {
          "name": "stdout",
          "output_type": "stream",
          "text": [
            "3 6\n",
            "1 3 1 0 5\n",
            "0 2 1 1 100\n",
            "1 6 8 5 11\n",
            "7\n",
            "10\n",
            "9\n"
          ]
        }
      ],
      "source": [
        "def count_less(seq, num):\n",
        "    L = len(seq)\n",
        "    left = 0\n",
        "    right = L - 1\n",
        "    while left < right:\n",
        "        m = (left + right) // 2\n",
        "        if seq[m] >= num:\n",
        "            right = m\n",
        "        else:\n",
        "            left = m + 1\n",
        "    if seq[left] < num:\n",
        "        return left + 1\n",
        "    return left\n",
        "\n",
        "def count_grt(seq, num):\n",
        "    L = len(seq)\n",
        "    return L - count_less(seq, num + 1)\n",
        "\n",
        "\n",
        "def mediansearch(seq1, seq2):\n",
        "    L = len(seq1)\n",
        "    left = min(seq1[0], seq2[0])\n",
        "    right = max(seq1[-1], seq2[-1])\n",
        "    while left < right:\n",
        "        m = (left + right) // 2\n",
        "        greater = count_grt(seq1, m) + count_grt(seq2, m)\n",
        "        less = count_less(seq1, m) + count_less(seq2, m)\n",
        "        if greater <= L  and less <= L - 1:\n",
        "            return m\n",
        "        if greater > L:\n",
        "            left = m + 1\n",
        "        if less > L - 1:\n",
        "            right = m - 1\n",
        "    return left\n",
        "\n",
        "N, L = map(int, input().split())\n",
        "numbers_seqs = []\n",
        "for _ in range(N):\n",
        "    curr_seq = []\n",
        "    prev_x, prev_d, a, c, m = map(int, input().split())\n",
        "    curr_seq.append(prev_x)\n",
        "    for _ in range(1, L):\n",
        "        curr_x = prev_x + prev_d\n",
        "        curr_seq.append(curr_x)\n",
        "        prev_d = (a * prev_d + c) % m\n",
        "        prev_x = curr_x\n",
        "    numbers_seqs.append(curr_seq)\n",
        "for i in range(N):\n",
        "    for j in range(i + 1, N):\n",
        "        print(mediansearch(numbers_seqs[i], numbers_seqs[j]))"
      ]
    },
    {
      "cell_type": "markdown",
      "metadata": {
        "id": "arbA-TTUVq6z"
      },
      "source": [
        "### Лекция №7"
      ]
    },
    {
      "cell_type": "markdown",
      "metadata": {
        "id": "lUe1dJk3VvjS"
      },
      "source": [
        "Задача №1\n",
        "\n"
      ]
    },
    {
      "cell_type": "markdown",
      "metadata": {
        "id": "gpEL2YKBwKbz"
      },
      "source": [
        "### Тинькофф\n"
      ]
    },
    {
      "cell_type": "markdown",
      "metadata": {
        "id": "VtMkb3VRwNgI"
      },
      "source": [
        "задача 1"
      ]
    },
    {
      "cell_type": "code",
      "execution_count": null,
      "metadata": {
        "id": "UZYWmxGswMnt"
      },
      "outputs": [],
      "source": [
        "c, x, y = [int(input()) for _ in range(3)]\n",
        "sum_ost = x - y\n",
        "month_number = (c - x) // sum_ost + ((c - x) % sum_ost > 0) + 1\n",
        "print(month_number)"
      ]
    },
    {
      "cell_type": "markdown",
      "metadata": {
        "id": "rBR6gX2E1AAr"
      },
      "source": [
        "задача 2"
      ]
    },
    {
      "cell_type": "code",
      "execution_count": null,
      "metadata": {
        "colab": {
          "base_uri": "https://localhost:8080/"
        },
        "id": "6XiOHzAc1BD_",
        "outputId": "e6dca581-9339-4002-cc03-6c4f2a87e1eb"
      },
      "outputs": [
        {
          "name": "stdout",
          "output_type": "stream",
          "text": [
            "1\n",
            "2\n",
            "4\n",
            "7\n"
          ]
        }
      ],
      "source": [
        "x, y, n = [int(input()) for _ in range(3)]\n",
        "if n == 0:\n",
        "    print(0)\n",
        "elif n == 1:\n",
        "    print(x)\n",
        "elif n == 2:\n",
        "    print(x + y)\n",
        "else:\n",
        "    errors_two_steps = x\n",
        "    errors_one_step = x + y\n",
        "    for _ in range(n - 2):\n",
        "        curr_sum = errors_two_steps + errors_one_step\n",
        "        errors_two_steps = errors_one_step\n",
        "        errors_one_step = curr_sum\n",
        "    print(curr_sum)"
      ]
    },
    {
      "cell_type": "markdown",
      "metadata": {
        "id": "0xaDkrOa54Fj"
      },
      "source": [
        "задача 3"
      ]
    },
    {
      "cell_type": "code",
      "execution_count": null,
      "metadata": {
        "colab": {
          "base_uri": "https://localhost:8080/"
        },
        "id": "1ypXcJGH55OC",
        "outputId": "0ed41dac-eb4a-43ee-e276-fe95edcc6fc0"
      },
      "outputs": [
        {
          "name": "stdout",
          "output_type": "stream",
          "text": [
            "5\n",
            "users order\n",
            "order operations market users\n",
            "operations market regions instruments\n",
            "users order\n",
            "users operations\n",
            "users market\n",
            "users regions\n",
            "regions instruments\n"
          ]
        }
      ],
      "source": [
        "n = int(input())\n",
        "first_day = input().split()\n",
        "tested = input().split()\n",
        "changed = input().split()\n",
        "print(*first_day)\n",
        "current = set(first_day)\n",
        "for i in range(n - 1):\n",
        "    current.remove(tested[i])\n",
        "    print(*current, end=' ')\n",
        "    current.add(changed[i])\n",
        "    print(changed[i])"
      ]
    },
    {
      "cell_type": "markdown",
      "metadata": {
        "id": "kouwhW3f8WP6"
      },
      "source": [
        "задача 4"
      ]
    },
    {
      "cell_type": "code",
      "execution_count": null,
      "metadata": {
        "colab": {
          "base_uri": "https://localhost:8080/"
        },
        "id": "jbArmDkA8XRW",
        "outputId": "0338b826-46ca-4b00-af93-12f0b51aa38e"
      },
      "outputs": [
        {
          "name": "stdout",
          "output_type": "stream",
          "text": [
            "5\n",
            "1 2 2 4 9\n",
            "6\n",
            "2 2 2 5 7 9\n",
            "2 2 9 "
          ]
        }
      ],
      "source": [
        "n = int(input())\n",
        "numbers_1 = list(map(int, input().split()))\n",
        "m = int(input())\n",
        "numbers_2 = list(map(int, input().split()))\n",
        "numbers_1_dict = {}\n",
        "numbers_2_dict = {}\n",
        "for num in numbers_1:\n",
        "    numbers_1_dict[num] = numbers_1_dict.get(num, 0) + 1\n",
        "for num in numbers_2:\n",
        "    if num in numbers_1_dict:\n",
        "        numbers_2_dict[num] = numbers_2_dict.get(num, 0) + 1\n",
        "for num in numbers_2_dict:\n",
        "    for _ in range(min(numbers_1_dict[num], numbers_2_dict[num])):\n",
        "        print(num, end=' ')"
      ]
    },
    {
      "cell_type": "markdown",
      "metadata": {
        "id": "hGyWoPxs_PcL"
      },
      "source": [
        "задача 5"
      ]
    },
    {
      "cell_type": "code",
      "execution_count": null,
      "metadata": {
        "colab": {
          "base_uri": "https://localhost:8080/"
        },
        "id": "HVTHTwN5_RD1",
        "outputId": "b435636c-7b6d-4472-b54b-ec62cbc10ed4"
      },
      "outputs": [
        {
          "name": "stdout",
          "output_type": "stream",
          "text": [
            "OOOOOOO\n",
            "3\n"
          ]
        }
      ],
      "source": [
        "def get_numbers_actions(seq, first_symbol):\n",
        "    actions = 0\n",
        "    reverse_O, reverse_W = 0, 0\n",
        "    if first_symbol == 'W':\n",
        "        start = 0\n",
        "    else:\n",
        "        start = 1\n",
        "    for i in range(len(seq)):\n",
        "        if i % 2 == start:\n",
        "            if seq[i] != 'W':\n",
        "                if reverse_O:\n",
        "                    reverse_O -= 1\n",
        "                else:\n",
        "                    actions += 1\n",
        "                    reverse_W += 1\n",
        "        else:\n",
        "            if seq[i] != 'O':\n",
        "                if reverse_W:\n",
        "                    reverse_W -= 1\n",
        "                else:\n",
        "                    actions += 1\n",
        "                    reverse_O += 1\n",
        "    return actions\n",
        "\n",
        "\n",
        "s = list(input())\n",
        "actions_1 = get_numbers_actions(s, first_symbol='W') # 'W' -> 1, 'O' -> 0\n",
        "actions_2 = get_numbers_actions(s, first_symbol='O')\n",
        "print(min(actions_1, actions_2))"
      ]
    },
    {
      "cell_type": "markdown",
      "metadata": {
        "id": "qcz7HXSVKg7c"
      },
      "source": [
        "### Тренировки"
      ]
    },
    {
      "cell_type": "code",
      "execution_count": null,
      "metadata": {
        "colab": {
          "base_uri": "https://localhost:8080/",
          "height": 356
        },
        "id": "IncXx4zjSTnJ",
        "outputId": "a5a79e8d-afb4-4a26-be22-112c795ada29"
      },
      "outputs": [
        {
          "name": "stdout",
          "output_type": "stream",
          "text": [
            "Hello, world!\n"
          ]
        },
        {
          "ename": "TypeError",
          "evalue": "ignored",
          "output_type": "error",
          "traceback": [
            "\u001b[0;31m---------------------------------------------------------------------------\u001b[0m",
            "\u001b[0;31mTypeError\u001b[0m                                 Traceback (most recent call last)",
            "\u001b[0;32m<ipython-input-27-eb102e4a8349>\u001b[0m in \u001b[0;36m<cell line: 18>\u001b[0;34m()\u001b[0m\n\u001b[1;32m     16\u001b[0m \u001b[0;34m\u001b[0m\u001b[0m\n\u001b[1;32m     17\u001b[0m \u001b[0mprint\u001b[0m\u001b[0;34m(\u001b[0m\u001b[0mcombine_text\u001b[0m\u001b[0;34m(\u001b[0m\u001b[0;34m'Hello,'\u001b[0m\u001b[0;34m,\u001b[0m \u001b[0;34m'world!'\u001b[0m\u001b[0;34m)\u001b[0m \u001b[0;32mor\u001b[0m \u001b[0;34m'Fail'\u001b[0m\u001b[0;34m)\u001b[0m\u001b[0;34m\u001b[0m\u001b[0;34m\u001b[0m\u001b[0m\n\u001b[0;32m---> 18\u001b[0;31m \u001b[0mprint\u001b[0m\u001b[0;34m(\u001b[0m\u001b[0mcombine_text\u001b[0m\u001b[0;34m(\u001b[0m\u001b[0;36m2\u001b[0m\u001b[0;34m,\u001b[0m \u001b[0;34m'+'\u001b[0m\u001b[0;34m,\u001b[0m \u001b[0;36m2\u001b[0m\u001b[0;34m,\u001b[0m \u001b[0;34m'='\u001b[0m\u001b[0;34m,\u001b[0m \u001b[0;36m4\u001b[0m\u001b[0;34m)\u001b[0m \u001b[0;32mor\u001b[0m \u001b[0;34m'Fail'\u001b[0m\u001b[0;34m)\u001b[0m\u001b[0;34m\u001b[0m\u001b[0;34m\u001b[0m\u001b[0m\n\u001b[0m\u001b[1;32m     19\u001b[0m \u001b[0mprint\u001b[0m\u001b[0;34m(\u001b[0m\u001b[0mcombine_text\u001b[0m\u001b[0;34m(\u001b[0m\u001b[0;34m'Список из 30'\u001b[0m\u001b[0;34m,\u001b[0m \u001b[0;36m0\u001b[0m\u001b[0;34m,\u001b[0m \u001b[0;34m'можно получить так'\u001b[0m\u001b[0;34m,\u001b[0m \u001b[0;34m[\u001b[0m\u001b[0;36m0\u001b[0m\u001b[0;34m]\u001b[0m \u001b[0;34m*\u001b[0m \u001b[0;36m30\u001b[0m\u001b[0;34m)\u001b[0m \u001b[0;32mor\u001b[0m \u001b[0;34m'Fail'\u001b[0m\u001b[0;34m)\u001b[0m\u001b[0;34m\u001b[0m\u001b[0;34m\u001b[0m\u001b[0m\n",
            "\u001b[0;32m<ipython-input-27-eb102e4a8349>\u001b[0m in \u001b[0;36mcombine_text\u001b[0;34m(*words)\u001b[0m\n\u001b[1;32m     12\u001b[0m \u001b[0;34m\u001b[0m\u001b[0m\n\u001b[1;32m     13\u001b[0m \u001b[0;32mdef\u001b[0m \u001b[0mcombine_text\u001b[0m\u001b[0;34m(\u001b[0m\u001b[0;34m*\u001b[0m\u001b[0mwords\u001b[0m\u001b[0;34m)\u001b[0m\u001b[0;34m:\u001b[0m\u001b[0;34m\u001b[0m\u001b[0;34m\u001b[0m\u001b[0m\n\u001b[0;32m---> 14\u001b[0;31m     \u001b[0;32mreturn\u001b[0m \u001b[0;34m' '\u001b[0m\u001b[0;34m.\u001b[0m\u001b[0mjoin\u001b[0m\u001b[0;34m(\u001b[0m\u001b[0mwords\u001b[0m\u001b[0;34m)\u001b[0m\u001b[0;34m\u001b[0m\u001b[0;34m\u001b[0m\u001b[0m\n\u001b[0m\u001b[1;32m     15\u001b[0m \u001b[0;34m\u001b[0m\u001b[0m\n\u001b[1;32m     16\u001b[0m \u001b[0;34m\u001b[0m\u001b[0m\n",
            "\u001b[0;31mTypeError\u001b[0m: sequence item 0: expected str instance, int found"
          ]
        }
      ],
      "source": [
        "def same_type(func):\n",
        "\n",
        "    def decorated(*args):\n",
        "        for i in range(1, len(args)):\n",
        "            if type(args[i]) != type(args[i - 1]):\n",
        "                print('Обнаружены различные типы данных')\n",
        "                break\n",
        "        else:\n",
        "            return func(*args)\n",
        "    return decorated\n",
        "\n",
        "\n",
        "def combine_text(*words):\n",
        "    return ' '.join(words)\n",
        "\n",
        "\n",
        "print(combine_text('Hello,', 'world!') or 'Fail')\n",
        "print(combine_text(2, '+', 2, '=', 4) or 'Fail')\n",
        "print(combine_text('Список из 30', 0, 'можно получить так', [0] * 30) or 'Fail')"
      ]
    },
    {
      "cell_type": "code",
      "execution_count": null,
      "metadata": {
        "colab": {
          "base_uri": "https://localhost:8080/"
        },
        "id": "nXSD8vKeqSJ7",
        "outputId": "0e03f017-9668-43bd-b7a6-a6883b745ea3"
      },
      "outputs": [
        {
          "name": "stdout",
          "output_type": "stream",
          "text": [
            "(3.2, 3.14) (4.319999999999999, 7.4399999999999995)\n",
            "(3.2, 7.000000000000002) (23.5, 11.3)\n"
          ]
        }
      ],
      "source": [
        "class Rectangle:\n",
        "\n",
        "    def __init__(self, first, second):\n",
        "        self.first = first\n",
        "        self.second = second\n",
        "\n",
        "    def perimeter(self):\n",
        "        return round(2 * (abs(self.first[0] - self.second[0]) +\n",
        "                          abs(self.first[1] - self.second[1])), 2)\n",
        "\n",
        "    def area(self):\n",
        "        return round(abs(self.first[0] - self.second[0]) *\n",
        "                     abs(self.first[1] - self.second[1]), 2)\n",
        "\n",
        "    def get_pos(self):\n",
        "        return min(self.first[0], self.second[0]),\\\n",
        "               max(self.first[1], self.second[1])\n",
        "\n",
        "    def get_size(self):\n",
        "        return abs(self.first[0] - self.second[0]),\\\n",
        "               abs(self.first[1] - self.second[1])\n",
        "\n",
        "    def move(self, dx, dy):\n",
        "        self.first = (self.first[0] + dx, self.first[1] + dy)\n",
        "        self.second = (self.second[0] + dx, self.second[1] + dy)\n",
        "\n",
        "    def resize(self, width, height):\n",
        "        if self.first[0] > self.second[0]:\n",
        "            self.first = (self.first[0] + width - self.get_size()[0], self.first[1])\n",
        "        else:\n",
        "            self.second = (self.second[0] + width - self.get_size()[0], self.second[1])\n",
        "        if self.first[1] > self.second[1]:\n",
        "            self.first = (self.first[0], self.first[1] + height - self.get_size()[1])\n",
        "        else:\n",
        "            self.second = (self.second[0], self.second[1] + height - self.get_size()[1])\n",
        "\n",
        "\n",
        "rect = Rectangle((7.52, -4.3), (3.2, 3.14))\n",
        "print(rect.get_pos(), rect.get_size())\n",
        "rect.resize(23.5, 11.3)\n",
        "print(rect.get_pos(), rect.get_size())"
      ]
    },
    {
      "cell_type": "code",
      "execution_count": null,
      "metadata": {
        "colab": {
          "base_uri": "https://localhost:8080/"
        },
        "id": "w2woqbaf7kh6",
        "outputId": "e89e55dd-caf6-494c-ab97-85dab5727f2e"
      },
      "outputs": [
        {
          "name": "stdout",
          "output_type": "stream",
          "text": [
            "9 8 7 6 5 4 3 2 1 0 "
          ]
        }
      ],
      "source": [
        "class Queue:\n",
        "\n",
        "    def __init__(self):\n",
        "        self.queue = []\n",
        "\n",
        "    def push(self, item):\n",
        "        self.queue.append(item)\n",
        "\n",
        "    def pop(self):\n",
        "        return self.queue.pop()\n",
        "\n",
        "    def is_empty(self):\n",
        "        if len(self.queue):\n",
        "            return False\n",
        "        else:\n",
        "            return True\n",
        "\n",
        "queue = Queue()\n",
        "for item in range(10):\n",
        "    queue.push(item)\n",
        "while not queue.is_empty():\n",
        "    print(queue.pop(), end=\" \")"
      ]
    },
    {
      "cell_type": "code",
      "execution_count": null,
      "metadata": {
        "id": "QkI3W5VmU-ID"
      },
      "outputs": [],
      "source": [
        "import math\n",
        "\n",
        "\n",
        "class Fraction:\n",
        "\n",
        "    def __minus_change(self, counter):\n",
        "        sign = -1 if counter % 2 == 1 else 1\n",
        "        return sign\n",
        "\n",
        "    def __counter_up(self, num, denum):\n",
        "        return (num < 0) + (denum < 0)\n",
        "\n",
        "    def __reduce(self, n, m):\n",
        "        k = math.gcd(abs(n), abs(m))\n",
        "        return n // k, m // k\n",
        "\n",
        "    def __init__(self, *args):\n",
        "        if len(args) == 1:\n",
        "            self.num, self.denum = map(int, args[0].split('/'))\n",
        "        else:\n",
        "            self.num, self.denum = args\n",
        "        self.counter = 0\n",
        "        self.num, self.denum = self.__reduce(self.num, self.denum)\n",
        "        self.counter += self.__counter_up(self.num, self.denum)\n",
        "\n",
        "    def numerator(self, number=None):\n",
        "        if number is None:\n",
        "            return abs(self.num)\n",
        "        self.num, self.denum = self.__reduce(number, self.denum)\n",
        "        if number < 0:\n",
        "            self.counter += 1\n",
        "\n",
        "    def denominator(self, number=None):\n",
        "        if number is None:\n",
        "            return abs(self.denum)\n",
        "        self.num, self.denum = self.__reduce(self.num, number)\n",
        "        if number < 0:\n",
        "            self.counter += 1\n",
        "\n",
        "    def __str__(self):\n",
        "        sign = self.__minus_change(self.counter)\n",
        "        return f'{sign * abs(self.num)}/{abs(self.denum)}'\n",
        "\n",
        "    def __repr__(self):\n",
        "        sign = self.__minus_change(self.counter)\n",
        "        return f'''Fraction('{sign * abs(self.num)}/{abs(self.denum)}')'''\n",
        "\n",
        "    def __neg__(self):\n",
        "        return Fraction(-self.num, self.denum)\n",
        "\n",
        "    def __add__(self, other):\n",
        "        numerator_1 = self.numerator() * other.denominator() * \\\n",
        "            self.__minus_change(self.counter)\n",
        "        numerator_2 = other.numerator() * self.denominator() * \\\n",
        "            other.__minus_change(other.counter)\n",
        "        denominator_0 = self.denominator() * other.denominator()\n",
        "        return Fraction(numerator_1 + numerator_2, denominator_0)\n",
        "\n",
        "    def __sub__(self, other):\n",
        "        numerator_1 = self.numerator() * other.denominator() * \\\n",
        "             self.__minus_change(self.counter)\n",
        "        numerator_2 = other.numerator() * self.denominator() * \\\n",
        "            other.__minus_change(other.counter)\n",
        "        denominator_0 = self.denominator() * other.denominator()\n",
        "        return Fraction(numerator_1 - numerator_2, denominator_0)\n",
        "\n",
        "    def __iadd__(self, other):\n",
        "        numerator_1 = self.numerator() * other.denominator() * \\\n",
        "            self.__minus_change(self.counter)\n",
        "        numerator_2 = other.numerator() * self.denominator() * \\\n",
        "            other.__minus_change(other.counter)\n",
        "        denominator_0 = self.denominator() * other.denominator()\n",
        "        self.counter = 0\n",
        "        self.denominator(1)\n",
        "        self.numerator(numerator_1 + numerator_2)\n",
        "        self.denominator(denominator_0)\n",
        "        return self\n",
        "\n",
        "    def __isub__(self, other):\n",
        "        numerator_1 = self.numerator() * other.denominator() * \\\n",
        "            self.__minus_change(self.counter)\n",
        "        numerator_2 = other.numerator() * self.denominator() * \\\n",
        "            other.__minus_change(other.counter)\n",
        "        denominator_0 = self.denominator() * other.denominator()\n",
        "        self.counter = 0\n",
        "        self.denominator(1)\n",
        "        self.numerator(numerator_1 - numerator_2)\n",
        "        self.denominator(denominator_0)\n",
        "        return self\n",
        "\n",
        "    def __mul__(self, other):\n",
        "        num_1 = self.numerator() * self.__minus_change(self.counter)\n",
        "        num_2 = other.numerator() * other.__minus_change(other.counter)\n",
        "        denum_0 = self.denominator() * other.denominator()\n",
        "        return Fraction(num_1 * num_2, denum_0)\n",
        "\n",
        "    def __truediv__(self, other):\n",
        "        num_1 = self.numerator() * self.__minus_change(self.counter)\n",
        "        num_2 = other.denominator()\n",
        "        denum_0 = self.denominator() * other.numerator() * \\\n",
        "            other.__minus_change(other.counter)\n",
        "        return Fraction(num_1 * num_2, denum_0)\n",
        "\n",
        "    def __imul__(self, other):\n",
        "        num_1 = self.numerator() * self.__minus_change(self.counter)\n",
        "        num_2 = other.numerator() * other.__minus_change(other.counter)\n",
        "        denum_0 = self.denominator() * other.denominator()\n",
        "        self.counter = 0\n",
        "        self.denominator(1)\n",
        "        self.numerator(num_1 * num_2)\n",
        "        self.denominator(denum_0)\n",
        "        return self\n",
        "\n",
        "    def __itruediv__(self, other):\n",
        "        num_1 = self.numerator() * self.__minus_change(self.counter)\n",
        "        num_2 = other.denominator()\n",
        "        denum_0 = self.denominator() * other.numerator() * \\\n",
        "            other.__minus_change(other.counter)\n",
        "        self.counter = 0\n",
        "        self.denominator(1)\n",
        "        self.numerator(num_1 * num_2)\n",
        "        self.denominator(denum_0)\n",
        "        return self\n",
        "\n",
        "    def reverse(self):\n",
        "        return Fraction(self.denominator() * self.__minus_change(self.counter),\n",
        "                        self.numerator())\n",
        "\n"
      ]
    },
    {
      "cell_type": "code",
      "source": [
        "import numpy as np\n",
        "\n",
        "\n",
        "def make_board(N):\n",
        "    matrix = np.zeros((N, N), dtype='int8')\n",
        "    for i in range(N):\n",
        "        for j in range(N):\n",
        "            if (i + j) % 2 == 0:\n",
        "                matrix[i, j] = 1\n",
        "    return matrix\n",
        "\n",
        "print(make_board(5))"
      ],
      "metadata": {
        "colab": {
          "base_uri": "https://localhost:8080/"
        },
        "id": "fSMmBW4e25jO",
        "outputId": "4f810f27-f49a-405d-dc8f-d29cb9ee9b9b"
      },
      "execution_count": null,
      "outputs": [
        {
          "output_type": "stream",
          "name": "stdout",
          "text": [
            "[[1 0 1 0 1]\n",
            " [0 1 0 1 0]\n",
            " [1 0 1 0 1]\n",
            " [0 1 0 1 0]\n",
            " [1 0 1 0 1]]\n"
          ]
        }
      ]
    },
    {
      "cell_type": "code",
      "execution_count": null,
      "metadata": {
        "colab": {
          "base_uri": "https://localhost:8080/"
        },
        "id": "9FlPjjdBbnvi",
        "outputId": "da44afa7-60e0-47e5-97d4-f9c3f2109352"
      },
      "outputs": [
        {
          "name": "stdout",
          "output_type": "stream",
          "text": [
            "[2, 3, 5, 9, 10]\n"
          ]
        }
      ],
      "source": [
        "def merge_sort(a):\n",
        "    if len(a) == 1:\n",
        "        return a\n",
        "    left = merge_sort(a[:len(a) // 2])\n",
        "    right = merge_sort(a[len(a) // 2:])\n",
        "    c = [0] * (len(left) + len(right))\n",
        "    n = m = k = 0\n",
        "    while n < len(left) and m < len(right):\n",
        "        if left[n] < right[m]:\n",
        "            c[k] = left[n]\n",
        "            n += 1\n",
        "        else:\n",
        "            c[k] = right[m]\n",
        "            m += 1\n",
        "        k += 1\n",
        "    while n < len(left):\n",
        "        c[k] = left[n]\n",
        "        n += 1\n",
        "        k += 1\n",
        "    while m < len(right):\n",
        "        c[k] = right[m]\n",
        "        m += 1\n",
        "        k += 1\n",
        "    return c\n",
        "\n",
        "print(merge_sort([5, 3, 2, 9, 10]))"
      ]
    },
    {
      "cell_type": "code",
      "source": [
        "n = int(input())\n",
        "counter = 1\n",
        "prev = list(map(int, input().split(':')))\n",
        "prev_sec = prev[0] * 3600 + prev[1] * 60 + prev[2]\n",
        "for _ in range(n - 1):\n",
        "    curr = list(map(int, input().split(':')))\n",
        "    curr_sec = curr[0] * 3600 + curr[1] * 60 + curr[2]\n",
        "    if curr_sec <= prev_sec:\n",
        "        counter += 1\n",
        "    prev_sec = curr_sec\n",
        "print(counter)"
      ],
      "metadata": {
        "colab": {
          "base_uri": "https://localhost:8080/"
        },
        "id": "CbUwpBEJiN1k",
        "outputId": "6b1918e7-da57-411c-f3f0-849edbe88736"
      },
      "execution_count": null,
      "outputs": [
        {
          "output_type": "stream",
          "name": "stdout",
          "text": [
            "3\n",
            "12:00:00\n",
            "23:59:59\n",
            "00:00:00\n",
            "2\n"
          ]
        }
      ]
    },
    {
      "cell_type": "code",
      "source": [
        "t = int(input())\n",
        "for _ in range(t):\n",
        "    word_1 = input()\n",
        "    word_2 = input()\n",
        "    pairs = []\n",
        "    letters_used = set()\n",
        "    flag = True\n",
        "    for i in range(len(word_1)):\n",
        "        l_1, l_2 = word_1[i], word_2[i]\n",
        "        if (l_1 not in letters_used) and (l_2 not in letters_used):\n",
        "            letters_used.add(l_1)\n",
        "            letters_used.add(l_2)\n",
        "            pairs.append({l_1, l_2})\n",
        "        else:\n",
        "            if {l_1, l_2} not in pairs:\n",
        "                flag = False\n",
        "                break\n",
        "    if flag:\n",
        "        print('YES')\n",
        "    else:\n",
        "        print('NO')"
      ],
      "metadata": {
        "colab": {
          "base_uri": "https://localhost:8080/"
        },
        "id": "ea4m3MCxkmXT",
        "outputId": "17b8ef13-423d-453f-cfa9-0bd660dd4d53"
      },
      "execution_count": null,
      "outputs": [
        {
          "output_type": "stream",
          "name": "stdout",
          "text": [
            "1\n",
            "aba\n",
            "cdc\n",
            "YES\n"
          ]
        }
      ]
    },
    {
      "cell_type": "code",
      "source": [
        "import pandas as pd\n",
        "import numpy as np\n",
        "\n",
        "\n",
        "def values(func, start, end, step):\n",
        "    points = np.arange(start, end + step, step)\n",
        "    ser = pd.Series(func(points), index=points)\n",
        "    return ser\n",
        "\n",
        "\n",
        "def min_extremum(data):\n",
        "    return data.idxmin()\n",
        "\n",
        "\n",
        "def max_extremum(data):\n",
        "    return data.idxmax()\n"
      ],
      "metadata": {
        "id": "Ya3pg9Kvse9I"
      },
      "execution_count": null,
      "outputs": []
    },
    {
      "cell_type": "code",
      "source": [
        "import sys\n",
        "d = {\n",
        "        \"id\": 1,\n",
        "        \"username\": \"first\",\n",
        "        \"last_name\": \"Петрова\",\n",
        "        \"first_name\": \"Елизавета\",\n",
        "        \"email\": \"e.petrova@server.none\"\n",
        "    }\n",
        "count = 0\n",
        "text = '''Письмо для: {email}\n",
        "Здравствуйте, {last_name} {first_name}\n",
        "Мы рады сообщить вам о предстоящей акции!\n",
        "Все подробности на нашем сайте\n",
        "С уважением, команда тестового сервера!'''\n",
        "print(text.format(**d))\n",
        "for c in text:\n",
        "    if c == '{':\n",
        "        count += 1\n",
        "        name_key = ''\n",
        "    if c == '}':\n",
        "        count -= 1\n",
        "        print(d[name_key[1:]], end='')\n",
        "    if count == 0:\n",
        "        if c != '}':\n",
        "            print(c, end='')\n",
        "    else:\n",
        "        name_key += c"
      ],
      "metadata": {
        "colab": {
          "base_uri": "https://localhost:8080/"
        },
        "id": "PT3syviBZkpY",
        "outputId": "a2d198d1-972f-4036-b79c-cfc1d8778758"
      },
      "execution_count": null,
      "outputs": [
        {
          "output_type": "stream",
          "name": "stdout",
          "text": [
            "Письмо для: e.petrova@server.none\n",
            "Здравствуйте, Петрова Елизавета\n",
            "Мы рады сообщить вам о предстоящей акции!\n",
            "Все подробности на нашем сайте\n",
            "С уважением, команда тестового сервера!\n",
            "Письмо для: e.petrova@server.none\n",
            "Здравствуйте, Петрова Елизавета\n",
            "Мы рады сообщить вам о предстоящей акции!\n",
            "Все подробности на нашем сайте\n",
            "С уважением, команда тестового сервера!"
          ]
        }
      ]
    }
  ],
  "metadata": {
    "colab": {
      "provenance": [],
      "authorship_tag": "ABX9TyO2fOPyhoMbTSq9rD7WorC9",
      "include_colab_link": true
    },
    "kernelspec": {
      "display_name": "Python 3",
      "name": "python3"
    },
    "language_info": {
      "name": "python"
    }
  },
  "nbformat": 4,
  "nbformat_minor": 0
}